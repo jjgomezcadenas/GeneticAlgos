{
 "cells": [
  {
   "cell_type": "code",
   "execution_count": 1,
   "metadata": {},
   "outputs": [],
   "source": [
    "import random\n",
    "import datetime\n",
    "from dataclasses import dataclass\n",
    "from typing import List, Dict, Tuple, Sequence, Callable"
   ]
  },
  {
   "cell_type": "code",
   "execution_count": 2,
   "metadata": {},
   "outputs": [],
   "source": [
    "import numpy as np"
   ]
  },
  {
   "cell_type": "code",
   "execution_count": 3,
   "metadata": {},
   "outputs": [],
   "source": [
    "@dataclass\n",
    "class Chromosome:\n",
    "    genes   : List\n",
    "    fitness : float\n",
    "\n",
    "def generate_parent(length: int, geneSet: Sequence, get_fitness: Callable)->Chromosome:\n",
    "    genes = []\n",
    "    while len(genes) < length:\n",
    "        sampleSize = min(length - len(genes), len(geneSet))\n",
    "        genes.extend(random.sample(geneSet, sampleSize))\n",
    "    fitness = get_fitness(genes)\n",
    "    return Chromosome(genes, fitness)\n",
    "\n",
    "def mutate_genes(genes: List, geneSet: List)->List:\n",
    "    \"\"\"Mutate genes target choosing character from geneSet\"\"\"\n",
    "\n",
    "    mutatedGenes         = genes[:]\n",
    "    index                = random.randrange(0, len(mutatedGenes))\n",
    "    newGene, alternate   = random.sample(geneSet, 2)\n",
    "    mutatedGenes[index]  = alternate if newGene == mutatedGenes[index] else newGene\n",
    "    return mutatedGenes\n",
    "\n",
    "\n",
    "def mutate_chromosome(geneSet:     Sequence,\n",
    "                      parent:      Chromosome,\n",
    "                      get_fitness: Callable)->Chromosome:\n",
    "    \"\"\"Generate a mutated chromosome\"\"\"\n",
    "    mutatedGenes = mutate_genes(parent.genes, geneSet)\n",
    "    fitness      = get_fitness(mutatedGenes)\n",
    "    return Chromosome(mutatedGenes, fitness)\n",
    "\n"
   ]
  },
  {
   "cell_type": "code",
   "execution_count": 4,
   "metadata": {},
   "outputs": [],
   "source": [
    "def dummy(genes):\n",
    "    return 1"
   ]
  },
  {
   "cell_type": "code",
   "execution_count": 6,
   "metadata": {},
   "outputs": [],
   "source": [
    "@dataclass\n",
    "class Board:\n",
    "    genes       : List\n",
    "\n",
    "    def __post_init__(self):\n",
    "        \n",
    "        self.sizeBoard = int(len(self.genes)) \n",
    "        #print(self.genes)\n",
    "        #print(self.sizeBoard)\n",
    "        self.board = self.define_board(self.genes, self.sizeBoard)\n",
    "\n",
    "    def define_board(self, genes: List, sizeBoard: int)->np.array:\n",
    "        x = np.arange(sizeBoard * sizeBoard)\n",
    "        x = x.reshape(sizeBoard,  sizeBoard)\n",
    "        board = np.zeros_like(x)\n",
    "        \n",
    "        R = np.arange(0, sizeBoard)\n",
    "        for i in np.arange(0, sizeBoard):\n",
    "           \n",
    "            column = genes[i]\n",
    "            row = R[i]\n",
    "            #print(row, column)\n",
    "            board[row][column] = 1\n",
    "        return board\n",
    "\n",
    "    def display_board(self):\n",
    "        print(self.board)"
   ]
  },
  {
   "cell_type": "code",
   "execution_count": 7,
   "metadata": {},
   "outputs": [
    {
     "name": "stdout",
     "output_type": "stream",
     "text": [
      "[0, 1, 2, 3, 4, 5, 6, 7]\n"
     ]
    }
   ],
   "source": [
    "sizeBoard = 8\n",
    "geneSet = [i for i in range(sizeBoard)]\n",
    "print(geneSet)"
   ]
  },
  {
   "cell_type": "code",
   "execution_count": 8,
   "metadata": {},
   "outputs": [
    {
     "name": "stdout",
     "output_type": "stream",
     "text": [
      "Chromosome(genes=[1, 6, 2, 0, 4, 5, 3, 7], fitness=1)\n"
     ]
    }
   ],
   "source": [
    "c1 = generate_parent(sizeBoard, geneSet, dummy)\n",
    "print(c1)"
   ]
  },
  {
   "cell_type": "code",
   "execution_count": 9,
   "metadata": {},
   "outputs": [],
   "source": [
    "b = Board(c1.genes)"
   ]
  },
  {
   "cell_type": "code",
   "execution_count": 10,
   "metadata": {},
   "outputs": [
    {
     "data": {
      "text/plain": [
       "Board(genes=[1, 6, 2, 0, 4, 5, 3, 7])"
      ]
     },
     "execution_count": 10,
     "metadata": {},
     "output_type": "execute_result"
    }
   ],
   "source": [
    "b"
   ]
  },
  {
   "cell_type": "code",
   "execution_count": 11,
   "metadata": {},
   "outputs": [
    {
     "name": "stdout",
     "output_type": "stream",
     "text": [
      "[[0 1 0 0 0 0 0 0]\n",
      " [0 0 0 0 0 0 1 0]\n",
      " [0 0 1 0 0 0 0 0]\n",
      " [1 0 0 0 0 0 0 0]\n",
      " [0 0 0 0 1 0 0 0]\n",
      " [0 0 0 0 0 1 0 0]\n",
      " [0 0 0 1 0 0 0 0]\n",
      " [0 0 0 0 0 0 0 1]]\n"
     ]
    }
   ],
   "source": [
    "b.display_board()"
   ]
  },
  {
   "cell_type": "code",
   "execution_count": 12,
   "metadata": {},
   "outputs": [
    {
     "data": {
      "text/plain": [
       "array([0, 1, 2, 3, 4, 5, 6, 7])"
      ]
     },
     "execution_count": 12,
     "metadata": {},
     "output_type": "execute_result"
    }
   ],
   "source": [
    "geneTest = np.arange(8)\n",
    "geneTest"
   ]
  },
  {
   "cell_type": "code",
   "execution_count": 13,
   "metadata": {},
   "outputs": [],
   "source": [
    "bTest = Board(geneTest)"
   ]
  },
  {
   "cell_type": "code",
   "execution_count": 14,
   "metadata": {},
   "outputs": [
    {
     "name": "stdout",
     "output_type": "stream",
     "text": [
      "[[1 0 0 0 0 0 0 0]\n",
      " [0 1 0 0 0 0 0 0]\n",
      " [0 0 1 0 0 0 0 0]\n",
      " [0 0 0 1 0 0 0 0]\n",
      " [0 0 0 0 1 0 0 0]\n",
      " [0 0 0 0 0 1 0 0]\n",
      " [0 0 0 0 0 0 1 0]\n",
      " [0 0 0 0 0 0 0 1]]\n"
     ]
    }
   ],
   "source": [
    "bTest.display_board()"
   ]
  },
  {
   "cell_type": "code",
   "execution_count": 15,
   "metadata": {},
   "outputs": [
    {
     "data": {
      "text/plain": [
       "Board(genes=array([0, 1, 2, 3, 4, 5, 6, 7]))"
      ]
     },
     "execution_count": 15,
     "metadata": {},
     "output_type": "execute_result"
    }
   ],
   "source": [
    "bTest"
   ]
  },
  {
   "cell_type": "code",
   "execution_count": 16,
   "metadata": {},
   "outputs": [
    {
     "data": {
      "text/plain": [
       "array([0, 1, 2, 3, 4, 5, 6, 7])"
      ]
     },
     "execution_count": 16,
     "metadata": {},
     "output_type": "execute_result"
    }
   ],
   "source": [
    "bTest.genes"
   ]
  },
  {
   "cell_type": "code",
   "execution_count": 17,
   "metadata": {},
   "outputs": [
    {
     "data": {
      "text/plain": [
       "array([[1, 0, 0, 0, 0, 0, 0, 0],\n",
       "       [0, 1, 0, 0, 0, 0, 0, 0],\n",
       "       [0, 0, 1, 0, 0, 0, 0, 0],\n",
       "       [0, 0, 0, 1, 0, 0, 0, 0],\n",
       "       [0, 0, 0, 0, 1, 0, 0, 0],\n",
       "       [0, 0, 0, 0, 0, 1, 0, 0],\n",
       "       [0, 0, 0, 0, 0, 0, 1, 0],\n",
       "       [0, 0, 0, 0, 0, 0, 0, 1]])"
      ]
     },
     "execution_count": 17,
     "metadata": {},
     "output_type": "execute_result"
    }
   ],
   "source": [
    "bTest.board"
   ]
  },
  {
   "cell_type": "code",
   "execution_count": 18,
   "metadata": {},
   "outputs": [
    {
     "data": {
      "text/plain": [
       "1"
      ]
     },
     "execution_count": 18,
     "metadata": {},
     "output_type": "execute_result"
    }
   ],
   "source": [
    "bTest.board[0,0]"
   ]
  },
  {
   "cell_type": "code",
   "execution_count": 28,
   "metadata": {},
   "outputs": [],
   "source": [
    "def test_board_diagonal():\n",
    "    counter = 0\n",
    "    geneTest = np.arange(8)\n",
    "    bTest = Board(geneTest)\n",
    "    bTest.display_board()\n",
    "    for i,j in list(zip(np.arange(8), np.arange(8))):\n",
    "        if bTest.board[i,j] == 1:\n",
    "            counter += 1\n",
    "        else:\n",
    "            return False\n",
    "        if counter == 8:\n",
    "            return True\n",
    "        "
   ]
  },
  {
   "cell_type": "code",
   "execution_count": 29,
   "metadata": {},
   "outputs": [
    {
     "name": "stdout",
     "output_type": "stream",
     "text": [
      "[[1 0 0 0 0 0 0 0]\n",
      " [0 1 0 0 0 0 0 0]\n",
      " [0 0 1 0 0 0 0 0]\n",
      " [0 0 0 1 0 0 0 0]\n",
      " [0 0 0 0 1 0 0 0]\n",
      " [0 0 0 0 0 1 0 0]\n",
      " [0 0 0 0 0 0 1 0]\n",
      " [0 0 0 0 0 0 0 1]]\n"
     ]
    },
    {
     "data": {
      "text/plain": [
       "True"
      ]
     },
     "execution_count": 29,
     "metadata": {},
     "output_type": "execute_result"
    }
   ],
   "source": [
    "test_board_diagonal()"
   ]
  },
  {
   "cell_type": "code",
   "execution_count": 32,
   "metadata": {},
   "outputs": [],
   "source": [
    "def test_board_row():\n",
    "    geneTest = 8*[0]\n",
    "    bTest = Board(geneTest)\n",
    "    bTest.display_board()\n",
    "    counter = 0\n",
    "    for i,j in list(zip(np.arange(8), np.arange(8))):\n",
    "        if bTest.board[i,0] == 1:\n",
    "            counter += 1\n",
    "        else:\n",
    "            return False\n",
    "        if counter == 8:\n",
    "            return True"
   ]
  },
  {
   "cell_type": "code",
   "execution_count": 33,
   "metadata": {},
   "outputs": [
    {
     "name": "stdout",
     "output_type": "stream",
     "text": [
      "[[1 0 0 0 0 0 0 0]\n",
      " [1 0 0 0 0 0 0 0]\n",
      " [1 0 0 0 0 0 0 0]\n",
      " [1 0 0 0 0 0 0 0]\n",
      " [1 0 0 0 0 0 0 0]\n",
      " [1 0 0 0 0 0 0 0]\n",
      " [1 0 0 0 0 0 0 0]\n",
      " [1 0 0 0 0 0 0 0]]\n"
     ]
    },
    {
     "data": {
      "text/plain": [
       "True"
      ]
     },
     "execution_count": 33,
     "metadata": {},
     "output_type": "execute_result"
    }
   ],
   "source": [
    "test_board_row()"
   ]
  },
  {
   "cell_type": "code",
   "execution_count": 34,
   "metadata": {},
   "outputs": [],
   "source": [
    "def get_fitness_verbose(genes):\n",
    "    def partial_fitness(size, mset):\n",
    "        return size - len(mset)\n",
    "    \n",
    "    b = Board(genes)\n",
    "    \n",
    "    b.display_board()\n",
    "    size  = b.sizeBoard\n",
    "    rQ = set()\n",
    "    cQ = set()\n",
    "    nDQ = set()\n",
    "    sDQ = set()\n",
    "    \n",
    "    for row in range(size):\n",
    "        for col in range(size):\n",
    "            #print(row, col)\n",
    "            if b.board[row,col] == 1:\n",
    "                print(f'found Queen at {[row, col]}')\n",
    "                rQ .add(row)\n",
    "                cQ .add(col)\n",
    "                nDQ.add(row + col)\n",
    "                sDQ.add(size - 1 - row + col)\n",
    "    print(f'rows with Queen = {rQ} ')\n",
    "    print(f'cols with Queen = {cQ}')\n",
    "    print(f'ndia with Queen = {nDQ}')\n",
    "    print(f'sdia with Queen = {sDQ}' )\n",
    "    \n",
    "    print(f'partial fitness rows with Queen = {partial_fitness(size,rQ)} ')\n",
    "    print(f'partial fitness cols with Queen = {partial_fitness(size, cQ)}')\n",
    "    print(f'partial fitness ndia with Queen = {partial_fitness(size, nDQ)}')\n",
    "    print(f'partial fitness sdia with Queen = {partial_fitness(size, sDQ)}' )\n",
    "\n",
    "\n",
    "                \n",
    "    total = partial_fitness(size,rQ) + partial_fitness(size, cQ) + partial_fitness(size, nDQ) + partial_fitness(size, sDQ)\n",
    "    \n",
    "    print(total)\n",
    "            \n",
    "    return 4 * size - total \n"
   ]
  },
  {
   "cell_type": "code",
   "execution_count": 36,
   "metadata": {},
   "outputs": [
    {
     "data": {
      "text/plain": [
       "array([0, 1, 2, 3, 4, 5, 6, 7])"
      ]
     },
     "execution_count": 36,
     "metadata": {},
     "output_type": "execute_result"
    }
   ],
   "source": [
    "geneTest = np.arange(8)\n",
    "geneTest"
   ]
  },
  {
   "cell_type": "code",
   "execution_count": 37,
   "metadata": {},
   "outputs": [
    {
     "name": "stdout",
     "output_type": "stream",
     "text": [
      "[[1 0 0 0 0 0 0 0]\n",
      " [0 1 0 0 0 0 0 0]\n",
      " [0 0 1 0 0 0 0 0]\n",
      " [0 0 0 1 0 0 0 0]\n",
      " [0 0 0 0 1 0 0 0]\n",
      " [0 0 0 0 0 1 0 0]\n",
      " [0 0 0 0 0 0 1 0]\n",
      " [0 0 0 0 0 0 0 1]]\n",
      "found Queen at [0, 0]\n",
      "found Queen at [1, 1]\n",
      "found Queen at [2, 2]\n",
      "found Queen at [3, 3]\n",
      "found Queen at [4, 4]\n",
      "found Queen at [5, 5]\n",
      "found Queen at [6, 6]\n",
      "found Queen at [7, 7]\n",
      "rows with Queen = {0, 1, 2, 3, 4, 5, 6, 7} \n",
      "cols with Queen = {0, 1, 2, 3, 4, 5, 6, 7}\n",
      "ndia with Queen = {0, 2, 4, 6, 8, 10, 12, 14}\n",
      "sdia with Queen = {7}\n",
      "partial fitness rows with Queen = 0 \n",
      "partial fitness cols with Queen = 0\n",
      "partial fitness ndia with Queen = 0\n",
      "partial fitness sdia with Queen = 7\n",
      "7\n"
     ]
    },
    {
     "data": {
      "text/plain": [
       "25"
      ]
     },
     "execution_count": 37,
     "metadata": {},
     "output_type": "execute_result"
    }
   ],
   "source": [
    "get_fitness_verbose(geneTest)"
   ]
  },
  {
   "cell_type": "code",
   "execution_count": 38,
   "metadata": {},
   "outputs": [],
   "source": [
    "geneTest2 = np.array([4, 2, 0, 6, 1, 7, 5, 3])"
   ]
  },
  {
   "cell_type": "code",
   "execution_count": 39,
   "metadata": {},
   "outputs": [
    {
     "name": "stdout",
     "output_type": "stream",
     "text": [
      "[[0 0 0 0 1 0 0 0]\n",
      " [0 0 1 0 0 0 0 0]\n",
      " [1 0 0 0 0 0 0 0]\n",
      " [0 0 0 0 0 0 1 0]\n",
      " [0 1 0 0 0 0 0 0]\n",
      " [0 0 0 0 0 0 0 1]\n",
      " [0 0 0 0 0 1 0 0]\n",
      " [0 0 0 1 0 0 0 0]]\n",
      "found Queen at [0, 4]\n",
      "found Queen at [1, 2]\n",
      "found Queen at [2, 0]\n",
      "found Queen at [3, 6]\n",
      "found Queen at [4, 1]\n",
      "found Queen at [5, 7]\n",
      "found Queen at [6, 5]\n",
      "found Queen at [7, 3]\n",
      "rows with Queen = {0, 1, 2, 3, 4, 5, 6, 7} \n",
      "cols with Queen = {0, 1, 2, 3, 4, 5, 6, 7}\n",
      "ndia with Queen = {2, 3, 4, 5, 9, 10, 11, 12}\n",
      "sdia with Queen = {3, 4, 5, 6, 8, 9, 10, 11}\n",
      "partial fitness rows with Queen = 0 \n",
      "partial fitness cols with Queen = 0\n",
      "partial fitness ndia with Queen = 0\n",
      "partial fitness sdia with Queen = 0\n",
      "0\n"
     ]
    },
    {
     "data": {
      "text/plain": [
       "32"
      ]
     },
     "execution_count": 39,
     "metadata": {},
     "output_type": "execute_result"
    }
   ],
   "source": [
    "get_fitness_verbose(geneTest2)"
   ]
  },
  {
   "cell_type": "code",
   "execution_count": 40,
   "metadata": {},
   "outputs": [],
   "source": [
    "def get_fitness(genes):\n",
    "    def partial_fitness(size, mset):\n",
    "        return size - len(mset)\n",
    "    \n",
    "    b = Board(genes)\n",
    "    \n",
    "    size  = b.sizeBoard\n",
    "    rQ = set()\n",
    "    cQ = set()\n",
    "    nDQ = set()\n",
    "    sDQ = set()\n",
    "    \n",
    "    for row in range(size):\n",
    "        for col in range(size):\n",
    "            if b.board[row,col] == 1:\n",
    "                rQ .add(row)\n",
    "                cQ .add(col)\n",
    "                nDQ.add(row + col)\n",
    "                sDQ.add(size - 1 - col + row)\n",
    "                \n",
    "    total = partial_fitness(size,rQ) + partial_fitness(size, cQ) + partial_fitness(size, nDQ) + partial_fitness(size, sDQ)\n",
    "    \n",
    "            \n",
    "    return 4 * size - total \n",
    "\n"
   ]
  },
  {
   "cell_type": "code",
   "execution_count": 41,
   "metadata": {},
   "outputs": [
    {
     "data": {
      "text/plain": [
       "32"
      ]
     },
     "execution_count": 41,
     "metadata": {},
     "output_type": "execute_result"
    }
   ],
   "source": [
    "get_fitness(geneTest2)"
   ]
  },
  {
   "cell_type": "code",
   "execution_count": 55,
   "metadata": {},
   "outputs": [
    {
     "name": "stdout",
     "output_type": "stream",
     "text": [
      "32\n"
     ]
    }
   ],
   "source": [
    "optimalFitness = 4 * sizeBoard \n",
    "print(optimalFitness)"
   ]
  },
  {
   "cell_type": "code",
   "execution_count": 56,
   "metadata": {},
   "outputs": [],
   "source": [
    "def compare_fitness(f1, f2):\n",
    "    return f1 >= f2"
   ]
  },
  {
   "cell_type": "code",
   "execution_count": 63,
   "metadata": {},
   "outputs": [],
   "source": [
    "def optimize(sizeBoard, geneSet, get_fitness, compare_fitness, optimalFitness, verbose=True, imax=10000):\n",
    "    random.seed()\n",
    "    startTime = datetime.datetime.now()\n",
    "    guess = generate_parent(sizeBoard, geneSet, get_fitness)\n",
    "    print(f'First guess = {guess}')\n",
    "\n",
    "    \n",
    "    i = 0\n",
    "    while compare_fitness(guess.fitness, optimalFitness) == False and i < imax:\n",
    "        newGuess = mutate_chromosome(geneSet, guess, get_fitness)\n",
    "        #print(newGuess)\n",
    "        time = startTime - datetime.datetime.now()\n",
    "        if compare_fitness(newGuess.fitness, guess.fitness) == True:\n",
    "            if verbose:\n",
    "                print(f'new guess increased fitness: {newGuess}, i = {i}, time = {time}')\n",
    "            guess = Chromosome(newGuess.genes, newGuess.fitness)\n",
    "        \n",
    "        i+=1\n",
    "    return i, time, guess\n",
    "    \n",
    " "
   ]
  },
  {
   "cell_type": "code",
   "execution_count": 64,
   "metadata": {},
   "outputs": [
    {
     "name": "stdout",
     "output_type": "stream",
     "text": [
      "[0, 1, 2, 3, 4, 5, 6, 7]\n"
     ]
    }
   ],
   "source": [
    "sizeBoard = 8\n",
    "geneSet = [i for i in range(sizeBoard)]\n",
    "print(geneSet)"
   ]
  },
  {
   "cell_type": "code",
   "execution_count": 66,
   "metadata": {},
   "outputs": [
    {
     "name": "stdout",
     "output_type": "stream",
     "text": [
      "First guess = Chromosome(genes=[1, 4, 7, 6, 2, 0, 5, 3], fitness=29)\n",
      "new guess increased fitness: Chromosome(genes=[1, 4, 7, 5, 2, 0, 5, 3], fitness=30), i = 0, time = -1 day, 23:59:59.999231\n",
      "new guess increased fitness: Chromosome(genes=[1, 6, 7, 5, 2, 0, 5, 3], fitness=30), i = 1, time = -1 day, 23:59:59.999037\n",
      "new guess increased fitness: Chromosome(genes=[1, 4, 7, 5, 2, 0, 5, 3], fitness=30), i = 12, time = -1 day, 23:59:59.997199\n",
      "new guess increased fitness: Chromosome(genes=[1, 4, 7, 0, 2, 0, 5, 3], fitness=30), i = 19, time = -1 day, 23:59:59.994531\n",
      "new guess increased fitness: Chromosome(genes=[1, 7, 7, 0, 2, 0, 5, 3], fitness=30), i = 23, time = -1 day, 23:59:59.988041\n",
      "new guess increased fitness: Chromosome(genes=[1, 7, 4, 0, 2, 0, 5, 3], fitness=30), i = 26, time = -1 day, 23:59:59.978666\n",
      "new guess increased fitness: Chromosome(genes=[1, 7, 4, 0, 2, 0, 6, 3], fitness=30), i = 33, time = -1 day, 23:59:59.977081\n",
      "new guess increased fitness: Chromosome(genes=[1, 7, 7, 0, 2, 0, 6, 3], fitness=30), i = 40, time = -1 day, 23:59:59.973085\n",
      "new guess increased fitness: Chromosome(genes=[1, 7, 7, 0, 2, 0, 5, 3], fitness=30), i = 43, time = -1 day, 23:59:59.970497\n",
      "new guess increased fitness: Chromosome(genes=[1, 7, 2, 0, 2, 0, 5, 3], fitness=30), i = 44, time = -1 day, 23:59:59.970291\n",
      "new guess increased fitness: Chromosome(genes=[1, 7, 5, 0, 2, 0, 5, 3], fitness=30), i = 54, time = -1 day, 23:59:59.968941\n",
      "new guess increased fitness: Chromosome(genes=[1, 7, 5, 0, 2, 7, 5, 3], fitness=30), i = 55, time = -1 day, 23:59:59.968673\n",
      "new guess increased fitness: Chromosome(genes=[1, 7, 5, 0, 2, 0, 5, 3], fitness=30), i = 57, time = -1 day, 23:59:59.968412\n",
      "new guess increased fitness: Chromosome(genes=[1, 7, 5, 0, 2, 0, 6, 3], fitness=31), i = 68, time = -1 day, 23:59:59.967046\n",
      "new guess increased fitness: Chromosome(genes=[4, 7, 5, 0, 2, 0, 6, 3], fitness=31), i = 88, time = -1 day, 23:59:59.963525\n",
      "new guess increased fitness: Chromosome(genes=[4, 7, 5, 0, 2, 4, 6, 3], fitness=31), i = 97, time = -1 day, 23:59:59.961890\n",
      "new guess increased fitness: Chromosome(genes=[5, 7, 5, 0, 2, 4, 6, 3], fitness=31), i = 121, time = -1 day, 23:59:59.957096\n",
      "new guess increased fitness: Chromosome(genes=[1, 7, 5, 0, 2, 4, 6, 3], fitness=32), i = 157, time = -1 day, 23:59:59.949566\n",
      "158 -1 day, 23:59:59.949566 Chromosome(genes=[1, 7, 5, 0, 2, 4, 6, 3], fitness=32)\n"
     ]
    }
   ],
   "source": [
    "i, time, solve = optimize(sizeBoard, geneSet, get_fitness, compare_fitness, optimalFitness, verbose=True, imax=1000)\n",
    "print(i, time, solve)"
   ]
  },
  {
   "cell_type": "code",
   "execution_count": 67,
   "metadata": {},
   "outputs": [
    {
     "name": "stdout",
     "output_type": "stream",
     "text": [
      "158\n"
     ]
    }
   ],
   "source": [
    "print(i)"
   ]
  },
  {
   "cell_type": "code",
   "execution_count": 68,
   "metadata": {},
   "outputs": [
    {
     "name": "stdout",
     "output_type": "stream",
     "text": [
      "Chromosome(genes=[1, 7, 5, 0, 2, 4, 6, 3], fitness=32)\n"
     ]
    }
   ],
   "source": [
    "print(solve)"
   ]
  },
  {
   "cell_type": "code",
   "execution_count": null,
   "metadata": {},
   "outputs": [],
   "source": []
  },
  {
   "cell_type": "code",
   "execution_count": null,
   "metadata": {},
   "outputs": [],
   "source": []
  }
 ],
 "metadata": {
  "kernelspec": {
   "display_name": "Python 3",
   "language": "python",
   "name": "python3"
  },
  "language_info": {
   "codemirror_mode": {
    "name": "ipython",
    "version": 3
   },
   "file_extension": ".py",
   "mimetype": "text/x-python",
   "name": "python",
   "nbconvert_exporter": "python",
   "pygments_lexer": "ipython3",
   "version": "3.7.7"
  }
 },
 "nbformat": 4,
 "nbformat_minor": 4
}
