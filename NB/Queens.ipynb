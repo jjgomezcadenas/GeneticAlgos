{
 "cells": [
  {
   "cell_type": "code",
   "execution_count": 260,
   "metadata": {},
   "outputs": [],
   "source": [
    "import random\n",
    "import datetime\n",
    "from dataclasses import dataclass\n",
    "from typing import List, Dict, Tuple, Sequence, Callable"
   ]
  },
  {
   "cell_type": "code",
   "execution_count": 261,
   "metadata": {},
   "outputs": [],
   "source": [
    "import numpy as np"
   ]
  },
  {
   "cell_type": "code",
   "execution_count": 145,
   "metadata": {},
   "outputs": [],
   "source": [
    "@dataclass\n",
    "class Chromosome:\n",
    "    genes   : List\n",
    "    fitness : float\n",
    "\n",
    "def generate_parent(length: int, geneSet: Sequence, get_fitness: Callable)->Chromosome:\n",
    "    genes = []\n",
    "    while len(genes) < length:\n",
    "        sampleSize = min(length - len(genes), len(geneSet))\n",
    "        genes.extend(random.sample(geneSet, sampleSize))\n",
    "    fitness = get_fitness(genes)\n",
    "    return Chromosome(genes, fitness)\n",
    "\n",
    "def mutate_genes(genes: List, geneSet: List)->List:\n",
    "    \"\"\"Mutate genes target choosing character from geneSet\"\"\"\n",
    "\n",
    "    mutatedGenes         = genes[:]\n",
    "    index                = random.randrange(0, len(mutatedGenes))\n",
    "    newGene, alternate   = random.sample(geneSet, 2)\n",
    "    mutatedGenes[index]  = alternate if newGene == mutatedGenes[index] else newGene\n",
    "    return mutatedGenes\n",
    "\n",
    "\n",
    "def mutate_chromosome(geneSet:     Sequence,\n",
    "                      parent:      Chromosome,\n",
    "                      get_fitness: Callable)->Chromosome:\n",
    "    \"\"\"Generate a mutated chromosome\"\"\"\n",
    "    mutatedGenes = mutate_genes(parent.genes, geneSet)\n",
    "    fitness      = get_fitness(mutatedGenes)\n",
    "    return Chromosome(mutatedGenes, fitness)\n",
    "\n"
   ]
  },
  {
   "cell_type": "code",
   "execution_count": 10,
   "metadata": {},
   "outputs": [],
   "source": [
    "def dummy(genes):\n",
    "    return 1"
   ]
  },
  {
   "cell_type": "code",
   "execution_count": 231,
   "metadata": {},
   "outputs": [
    {
     "name": "stdout",
     "output_type": "stream",
     "text": [
      "Chromosome(genes=[1, 4, 0, 2, 7, 3, 6, 5, 7, 1, 2, 3, 0, 4, 6, 5], fitness=1)\n"
     ]
    }
   ],
   "source": [
    "c1 = generate_parent(2*sizeBoard, geneSet, dummy)\n",
    "print(c1)"
   ]
  },
  {
   "cell_type": "code",
   "execution_count": null,
   "metadata": {},
   "outputs": [],
   "source": []
  },
  {
   "cell_type": "code",
   "execution_count": 241,
   "metadata": {},
   "outputs": [],
   "source": [
    "@dataclass\n",
    "class Board:\n",
    "    genes       : List\n",
    "\n",
    "    def __post_init__(self):\n",
    "        \n",
    "        self.sizeBoard = int(len(self.genes)/2) \n",
    "        #print(self.genes)\n",
    "        #print(self.sizeBoard)\n",
    "        self.board = self.define_board(self.genes, self.sizeBoard)\n",
    "\n",
    "    def define_board(self, genes: List, sizeBoard: int)->np.array:\n",
    "        x = np.arange(sizeBoard * sizeBoard)\n",
    "        x = x.reshape(sizeBoard,  sizeBoard)\n",
    "        board = np.zeros_like(x)\n",
    "        \n",
    "        for i, j in zip(np.arange(0, sizeBoard), np.arange(sizeBoard, 2 * sizeBoard)):\n",
    "           \n",
    "            row = genes[i]\n",
    "            column = genes[j]\n",
    "            #print(row, column)\n",
    "            board[column][row] = 1\n",
    "        return board\n",
    "\n",
    "    def display_board(self):\n",
    "        print(self.board)"
   ]
  },
  {
   "cell_type": "code",
   "execution_count": 242,
   "metadata": {},
   "outputs": [
    {
     "name": "stdout",
     "output_type": "stream",
     "text": [
      "[0, 1, 2, 3, 4, 5, 6, 7]\n"
     ]
    }
   ],
   "source": [
    "sizeBoard = 8\n",
    "geneSet = [i for i in range(sizeBoard)]\n",
    "print(geneSet)"
   ]
  },
  {
   "cell_type": "code",
   "execution_count": 243,
   "metadata": {},
   "outputs": [
    {
     "name": "stdout",
     "output_type": "stream",
     "text": [
      "Chromosome(genes=[1, 2, 7, 4, 6, 0, 3, 5, 3, 2, 4, 5, 1, 0, 6, 7], fitness=1)\n"
     ]
    }
   ],
   "source": [
    "c1 = generate_parent(2*sizeBoard, geneSet, dummy)\n",
    "print(c1)"
   ]
  },
  {
   "cell_type": "code",
   "execution_count": 244,
   "metadata": {},
   "outputs": [],
   "source": [
    "b = Board(c1.genes)"
   ]
  },
  {
   "cell_type": "code",
   "execution_count": 245,
   "metadata": {},
   "outputs": [
    {
     "data": {
      "text/plain": [
       "Board(genes=[1, 2, 7, 4, 6, 0, 3, 5, 3, 2, 4, 5, 1, 0, 6, 7])"
      ]
     },
     "execution_count": 245,
     "metadata": {},
     "output_type": "execute_result"
    }
   ],
   "source": [
    "b"
   ]
  },
  {
   "cell_type": "code",
   "execution_count": 246,
   "metadata": {},
   "outputs": [
    {
     "name": "stdout",
     "output_type": "stream",
     "text": [
      "[[1 0 0 0 0 0 0 0]\n",
      " [0 0 0 0 0 0 1 0]\n",
      " [0 0 1 0 0 0 0 0]\n",
      " [0 1 0 0 0 0 0 0]\n",
      " [0 0 0 0 0 0 0 1]\n",
      " [0 0 0 0 1 0 0 0]\n",
      " [0 0 0 1 0 0 0 0]\n",
      " [0 0 0 0 0 1 0 0]]\n"
     ]
    }
   ],
   "source": [
    "b.display_board()"
   ]
  },
  {
   "cell_type": "code",
   "execution_count": 252,
   "metadata": {},
   "outputs": [
    {
     "data": {
      "text/plain": [
       "array([0, 1, 2, 3, 4, 5, 6, 7, 0, 1, 2, 3, 4, 5, 6, 7])"
      ]
     },
     "execution_count": 252,
     "metadata": {},
     "output_type": "execute_result"
    }
   ],
   "source": [
    "geneTest1 = np.arange(8)\n",
    "geneTest2 = np.arange(8)\n",
    "geneTest = np.concatenate((geneTest1, geneTest2))\n",
    "geneTest"
   ]
  },
  {
   "cell_type": "code",
   "execution_count": 253,
   "metadata": {},
   "outputs": [],
   "source": [
    "bTest = Board(geneTest)"
   ]
  },
  {
   "cell_type": "code",
   "execution_count": 254,
   "metadata": {},
   "outputs": [
    {
     "name": "stdout",
     "output_type": "stream",
     "text": [
      "[[1 0 0 0 0 0 0 0]\n",
      " [0 1 0 0 0 0 0 0]\n",
      " [0 0 1 0 0 0 0 0]\n",
      " [0 0 0 1 0 0 0 0]\n",
      " [0 0 0 0 1 0 0 0]\n",
      " [0 0 0 0 0 1 0 0]\n",
      " [0 0 0 0 0 0 1 0]\n",
      " [0 0 0 0 0 0 0 1]]\n"
     ]
    }
   ],
   "source": [
    "bTest.display_board()"
   ]
  },
  {
   "cell_type": "code",
   "execution_count": 255,
   "metadata": {},
   "outputs": [
    {
     "data": {
      "text/plain": [
       "Board(genes=array([0, 1, 2, 3, 4, 5, 6, 7, 0, 1, 2, 3, 4, 5, 6, 7]))"
      ]
     },
     "execution_count": 255,
     "metadata": {},
     "output_type": "execute_result"
    }
   ],
   "source": [
    "bTest"
   ]
  },
  {
   "cell_type": "code",
   "execution_count": 256,
   "metadata": {},
   "outputs": [
    {
     "data": {
      "text/plain": [
       "array([0, 1, 2, 3, 4, 5, 6, 7, 0, 1, 2, 3, 4, 5, 6, 7])"
      ]
     },
     "execution_count": 256,
     "metadata": {},
     "output_type": "execute_result"
    }
   ],
   "source": [
    "bTest.genes"
   ]
  },
  {
   "cell_type": "code",
   "execution_count": 257,
   "metadata": {},
   "outputs": [
    {
     "data": {
      "text/plain": [
       "array([[1, 0, 0, 0, 0, 0, 0, 0],\n",
       "       [0, 1, 0, 0, 0, 0, 0, 0],\n",
       "       [0, 0, 1, 0, 0, 0, 0, 0],\n",
       "       [0, 0, 0, 1, 0, 0, 0, 0],\n",
       "       [0, 0, 0, 0, 1, 0, 0, 0],\n",
       "       [0, 0, 0, 0, 0, 1, 0, 0],\n",
       "       [0, 0, 0, 0, 0, 0, 1, 0],\n",
       "       [0, 0, 0, 0, 0, 0, 0, 1]])"
      ]
     },
     "execution_count": 257,
     "metadata": {},
     "output_type": "execute_result"
    }
   ],
   "source": [
    "bTest.board"
   ]
  },
  {
   "cell_type": "code",
   "execution_count": 259,
   "metadata": {},
   "outputs": [
    {
     "data": {
      "text/plain": [
       "1"
      ]
     },
     "execution_count": 259,
     "metadata": {},
     "output_type": "execute_result"
    }
   ],
   "source": [
    "bTest.board[0,0]"
   ]
  },
  {
   "cell_type": "code",
   "execution_count": null,
   "metadata": {},
   "outputs": [],
   "source": []
  },
  {
   "cell_type": "code",
   "execution_count": 221,
   "metadata": {},
   "outputs": [],
   "source": [
    "def get_fitness_verbose(genes):\n",
    "    def partial_fitness(size, mset):\n",
    "        return size - len(mset)\n",
    "    \n",
    "    board = Board(genes)\n",
    "    \n",
    "    board.display_board()\n",
    "    size  = board.sizeBoard\n",
    "    rQ = set()\n",
    "    cQ = set()\n",
    "    nDQ = set()\n",
    "    sDQ = set()\n",
    "    print(f'size = {size}')\n",
    "    print (f' in {[0,2]}, found {b.board[0,2]}')\n",
    "    print (f' in {[1,7]}, found {b.board[1,7]}')\n",
    "    print (f' in {[2,5]}, found {b.board[2,5]}')\n",
    "    print (f' in {[3,1]}, found {b.board[3,1]}')\n",
    "    print (f' in {[4,4]}, found {b.board[4,4]}')\n",
    "    print (f' in {[5,6]}, found {b.board[5,6]}')\n",
    "    print (f' in {[6,0]}, found {b.board[6,0]}')\n",
    "    print (f' in {[7,3]}, found {b.board[7,3]}')\n",
    "    for row in range(size):\n",
    "        for col in range(size):\n",
    "            #print(row, col)\n",
    "            if b.board[row,col] == 1:\n",
    "                print(f'found Queen at {[row, col]}')\n",
    "                rQ .add(row)\n",
    "                cQ .add(col)\n",
    "                nDQ.add(row + col)\n",
    "                sDQ.add(size - 1 - row + col)\n",
    "    print(f'rows with Queen = {rQ} ')\n",
    "    print(f'cols with Queen = {cQ}')\n",
    "    print(f'ndia with Queen = {nDQ}')\n",
    "    print(f'sdia with Queen = {sDQ}' )\n",
    "                \n",
    "    total = partial_fitness(size,rQ) + partial_fitness(size, cQ) + partial_fitness(size, nDQ) + partial_fitness(size, sDQ)\n",
    "    \n",
    "    print(total)\n",
    "            \n",
    "    return 4 * size - total \n"
   ]
  },
  {
   "cell_type": "code",
   "execution_count": 218,
   "metadata": {},
   "outputs": [
    {
     "name": "stdout",
     "output_type": "stream",
     "text": [
      "[[0 0 1 0 0 0 0 0]\n",
      " [0 0 0 0 0 0 0 1]\n",
      " [0 0 0 0 0 1 0 0]\n",
      " [0 1 0 0 0 0 0 0]\n",
      " [0 0 0 0 1 0 0 0]\n",
      " [0 0 0 0 0 0 1 0]\n",
      " [1 0 0 0 0 0 0 0]\n",
      " [0 0 0 1 0 0 0 0]]\n",
      "size = 8\n",
      " in [0, 2], found 1\n",
      " in [1, 7], found 1\n",
      " in [2, 5], found 1\n",
      " in [3, 1], found 1\n",
      " in [4, 4], found 1\n",
      " in [5, 6], found 1\n",
      " in [6, 0], found 1\n",
      " in [7, 3], found 1\n",
      "found Queen at [0, 2]\n",
      "found Queen at [1, 7]\n",
      "found Queen at [2, 5]\n",
      "found Queen at [3, 1]\n",
      "found Queen at [4, 4]\n",
      "found Queen at [5, 6]\n",
      "found Queen at [6, 0]\n",
      "found Queen at [7, 3]\n",
      "rows with Queen = {0, 1, 2, 3, 4, 5, 6, 7} \n",
      "cols with Queen = {0, 1, 2, 3, 4, 5, 6, 7}\n",
      "ndia with Queen = {2, 4, 6, 7, 8, 10, 11}\n",
      "sdia with Queen = {1, 3, 5, 7, 8, 9, 10, 13}\n",
      "1\n"
     ]
    },
    {
     "data": {
      "text/plain": [
       "31"
      ]
     },
     "execution_count": 218,
     "metadata": {},
     "output_type": "execute_result"
    }
   ],
   "source": [
    "get_fitness_verbose(b.genes)"
   ]
  },
  {
   "cell_type": "code",
   "execution_count": 226,
   "metadata": {},
   "outputs": [],
   "source": [
    "def get_fitness(genes):\n",
    "    def partial_fitness(size, mset):\n",
    "        return size - len(mset)\n",
    "    \n",
    "    board = Board(genes)\n",
    "    \n",
    "    #board.display_board()\n",
    "    size  = board.sizeBoard\n",
    "    rQ = set()\n",
    "    cQ = set()\n",
    "    nDQ = set()\n",
    "    sDQ = set()\n",
    "    \n",
    "    for row in range(size):\n",
    "        for col in range(size):\n",
    "            #print(row, col)\n",
    "            if b.board[row,col] == 1:\n",
    "                #print(f'found Queen at {[row, col]}')\n",
    "                rQ .add(row)\n",
    "                cQ .add(col)\n",
    "                nDQ.add(row + col)\n",
    "                sDQ.add(size - 1 - row + col)\n",
    "    #print(f'rows with Queen = {rQ} ')\n",
    "    #print(f'cols with Queen = {cQ}')\n",
    "    #print(f'ndia with Queen = {nDQ}')\n",
    "    #print(f'sdia with Queen = {sDQ}' )\n",
    "                \n",
    "    total = partial_fitness(size,rQ) + partial_fitness(size, cQ) + partial_fitness(size, nDQ) + partial_fitness(size, sDQ)\n",
    "    \n",
    "    #print(total)\n",
    "            \n",
    "    return 4 * size - total \n"
   ]
  },
  {
   "cell_type": "code",
   "execution_count": 227,
   "metadata": {},
   "outputs": [
    {
     "data": {
      "text/plain": [
       "31"
      ]
     },
     "execution_count": 227,
     "metadata": {},
     "output_type": "execute_result"
    }
   ],
   "source": [
    "get_fitness(b.genes)"
   ]
  },
  {
   "cell_type": "code",
   "execution_count": null,
   "metadata": {},
   "outputs": [],
   "source": []
  },
  {
   "cell_type": "code",
   "execution_count": 185,
   "metadata": {},
   "outputs": [
    {
     "name": "stdout",
     "output_type": "stream",
     "text": [
      "31\n"
     ]
    }
   ],
   "source": [
    "optimalFitness = 4 * sizeBoard -1\n",
    "print(optimalFitness)"
   ]
  },
  {
   "cell_type": "code",
   "execution_count": 133,
   "metadata": {},
   "outputs": [],
   "source": [
    "def compare_fitness(fitness, optimalFitness):\n",
    "    return fitness > optimalFitness"
   ]
  },
  {
   "cell_type": "code",
   "execution_count": 193,
   "metadata": {},
   "outputs": [],
   "source": [
    "def optimize(sizeBoard, geneSet, get_fitness, compare_fitness, optimalFitness, verbose=True, imax=10000):\n",
    "    startTime = datetime.datetime.now()\n",
    "    random.seed()\n",
    "    guess = generate_parent(2*sizeBoard, geneSet, get_fitness)\n",
    "    print(f'First guess = {guess}')\n",
    "\n",
    "    \n",
    "    i = 0\n",
    "    while compare_fitness(guess.fitness, optimalFitness) == False and i < imax:\n",
    "        newGuess = mutate_chromosome(geneSet, guess, get_fitness)\n",
    "        print(newGuess)\n",
    "        time = startTime - datetime.datetime.now()\n",
    "        if compare_fitness(newGuess.fitness, guess.fitness) == True:\n",
    "            if verbose:\n",
    "                print(f'new guess increased fitness: {newGuess}, i = {i}, time = {time}')\n",
    "            guess = Chromosome(newGuess.genes, newGuess.fitness)\n",
    "        \n",
    "        i+=1\n",
    "    return i, time, guess\n",
    "    \n",
    " "
   ]
  },
  {
   "cell_type": "code",
   "execution_count": 194,
   "metadata": {},
   "outputs": [
    {
     "name": "stdout",
     "output_type": "stream",
     "text": [
      "[0, 1, 2, 3, 4, 5, 6, 7]\n"
     ]
    }
   ],
   "source": [
    "sizeBoard = 8\n",
    "geneSet = [i for i in range(sizeBoard)]\n",
    "print(geneSet)"
   ]
  },
  {
   "cell_type": "code",
   "execution_count": 230,
   "metadata": {},
   "outputs": [
    {
     "name": "stdout",
     "output_type": "stream",
     "text": [
      "First guess = Chromosome(genes=[1, 6, 0, 2, 7, 3, 5, 4, 3, 7, 2, 1, 0, 4, 6, 5], fitness=31)\n",
      "Chromosome(genes=[1, 6, 0, 2, 7, 3, 5, 4, 3, 6, 2, 1, 0, 4, 6, 5], fitness=31)\n",
      "Chromosome(genes=[0, 6, 0, 2, 7, 3, 5, 4, 3, 7, 2, 1, 0, 4, 6, 5], fitness=31)\n",
      "Chromosome(genes=[1, 6, 0, 2, 7, 3, 5, 4, 3, 7, 2, 1, 0, 0, 6, 5], fitness=31)\n",
      "Chromosome(genes=[1, 6, 0, 2, 7, 3, 5, 4, 0, 7, 2, 1, 0, 4, 6, 5], fitness=31)\n",
      "Chromosome(genes=[1, 6, 0, 2, 7, 3, 5, 4, 3, 4, 2, 1, 0, 4, 6, 5], fitness=31)\n",
      "Chromosome(genes=[1, 6, 0, 2, 7, 3, 5, 4, 3, 7, 2, 1, 0, 4, 6, 1], fitness=31)\n",
      "Chromosome(genes=[1, 6, 0, 2, 7, 3, 5, 4, 3, 7, 2, 1, 7, 4, 6, 5], fitness=31)\n",
      "Chromosome(genes=[1, 6, 0, 2, 7, 3, 2, 4, 3, 7, 2, 1, 0, 4, 6, 5], fitness=31)\n",
      "Chromosome(genes=[1, 6, 0, 2, 7, 3, 5, 4, 3, 7, 2, 1, 0, 4, 6, 2], fitness=31)\n",
      "Chromosome(genes=[1, 1, 0, 2, 7, 3, 5, 4, 3, 7, 2, 1, 0, 4, 6, 5], fitness=31)\n"
     ]
    }
   ],
   "source": [
    "i, time, solve = optimize(sizeBoard, geneSet, get_fitness, compare_fitness, optimalFitness, verbose=True, imax=10)"
   ]
  },
  {
   "cell_type": "code",
   "execution_count": 191,
   "metadata": {},
   "outputs": [
    {
     "name": "stdout",
     "output_type": "stream",
     "text": [
      "10000\n"
     ]
    }
   ],
   "source": [
    "print(i)"
   ]
  },
  {
   "cell_type": "code",
   "execution_count": 192,
   "metadata": {},
   "outputs": [
    {
     "name": "stdout",
     "output_type": "stream",
     "text": [
      "Chromosome(genes=[1, 7, 5, 3, 4, 6, 2, 0, 5, 2, 0, 4, 1, 7, 3, 6], fitness=24)\n"
     ]
    }
   ],
   "source": [
    "print(solve)"
   ]
  },
  {
   "cell_type": "code",
   "execution_count": null,
   "metadata": {},
   "outputs": [],
   "source": []
  },
  {
   "cell_type": "code",
   "execution_count": null,
   "metadata": {},
   "outputs": [],
   "source": []
  }
 ],
 "metadata": {
  "kernelspec": {
   "display_name": "Python 3",
   "language": "python",
   "name": "python3"
  },
  "language_info": {
   "codemirror_mode": {
    "name": "ipython",
    "version": 3
   },
   "file_extension": ".py",
   "mimetype": "text/x-python",
   "name": "python",
   "nbconvert_exporter": "python",
   "pygments_lexer": "ipython3",
   "version": "3.7.7"
  }
 },
 "nbformat": 4,
 "nbformat_minor": 4
}
