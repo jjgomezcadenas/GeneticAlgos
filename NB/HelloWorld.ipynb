{
 "cells": [
  {
   "cell_type": "markdown",
   "metadata": {},
   "source": [
    "# Hello World"
   ]
  },
  {
   "cell_type": "markdown",
   "metadata": {},
   "source": [
    "## Init"
   ]
  },
  {
   "cell_type": "code",
   "execution_count": 1,
   "metadata": {},
   "outputs": [],
   "source": [
    "import random\n",
    "import copy\n",
    "import datetime\n",
    "from dataclasses import dataclass\n",
    "from typing import List, Dict, Tuple, Sequence"
   ]
  },
  {
   "cell_type": "markdown",
   "metadata": {},
   "source": [
    "## data"
   ]
  },
  {
   "cell_type": "code",
   "execution_count": 2,
   "metadata": {},
   "outputs": [],
   "source": [
    "geneSet = \" abcdefghijklmnopqrstuvwxyzABCDEFGHIJKLMNOPQRSTUVWXYZ!.\"\n",
    "target = \"Hello World!\"\n",
    "\n",
    "\n",
    "@dataclass\n",
    "class Chromosome:\n",
    "    genes   : List\n",
    "    fitness : float\n",
    "\n",
    "    def __str__(self):\n",
    "        st = f\"genes = {list_to_string(self.genes)}  fitnes = {self.fitness}\"\n",
    "        return st\n",
    "\n",
    "    def __repr__(self):\n",
    "        return self.str()\n"
   ]
  },
  {
   "cell_type": "markdown",
   "metadata": {},
   "source": [
    "## Functions"
   ]
  },
  {
   "cell_type": "code",
   "execution_count": 19,
   "metadata": {},
   "outputs": [],
   "source": [
    "def list_to_string(mlist : List)->str:\n",
    "    return ''.join(mlist)\n",
    "\n",
    "\n",
    "def string_to_list(mstr : str)->List:\n",
    "    return [x for x in mstr]\n",
    "\n",
    "\n",
    "def get_fitness(guess: Sequence, target: Sequence)->float:\n",
    "    \"\"\"Computes the fitness of the target comparing with guess:\n",
    "       Both are strings: if the character in target matches character in guess,\n",
    "       fitness increases by one\n",
    "\n",
    "    \"\"\"\n",
    "    return sum(1 for t, g in zip(target, guess)\n",
    "               if t == g)\n",
    "\n",
    "\n",
    "def generate_parent(target: str, geneSet: str)->Chromosome:\n",
    "    \"\"\"Generates an initial chromosome\"\"\"\n",
    "    genes   = random.sample(geneSet, len(target))  # A set of genes, sampled from the geneSet\n",
    "    fitness = get_fitness(genes, target)           # Compare genes with target, returns a float\n",
    "    return Chromosome(genes, fitness)\n",
    "\n",
    "\n",
    "def mutate_genes(genes: List, geneSet: str)->List:\n",
    "    \"\"\"Mutate genes target choosing character from geneSet\"\"\"\n",
    "    \n",
    "    mutatedGenes         = copy.deepcopy(genes)\n",
    "    mutatedGenes         = genes[:]\n",
    "    index                = random.randrange(0, len(mutatedGenes))\n",
    "    newGene, alternate   = random.sample(geneSet, 2)\n",
    "    mutatedGenes[index]  = alternate if newGene == mutatedGenes[index] else newGene\n",
    "    return mutatedGenes\n",
    "\n",
    "def mutate_chromosome(target: str, geneSet: str, parent: Chromosome)->Chromosome:\n",
    "    \"\"\"Generate a mutated chromosome\"\"\"\n",
    "    mutatedGenes = mutate_genes(parent.genes, geneSet)\n",
    "    fitness      = get_fitness(mutatedGenes, target)\n",
    "    return Chromosome(mutatedGenes, fitness)\n",
    "\n",
    "\n",
    "def compare_with_target(target: str, guess: Chromosome)->bool:\n",
    "    return guess.fitness == len(target)\n",
    "\n",
    "def guess_target(target: str, geneSet: str, imax: int = 1000000):\n",
    "    random.seed()\n",
    "    guess = generate_parent(target, geneSet)\n",
    "    print(f'initial guess : {guess}  len(genes) ={len(guess.genes)}')\n",
    "\n",
    "    i = 0\n",
    "    while compare_with_target(target, guess) == False and i < imax:\n",
    "        newGuess = mutate_chromosome(target, geneSet, guess)\n",
    "        #print(f'new guess : {newGuess}, i = {i}')\n",
    "        if newGuess.fitness > guess.fitness:\n",
    "            guess = Chromosome(newGuess.genes, newGuess.fitness)\n",
    "            print(f'new guess increased fitness : {guess}, i = {i}')\n",
    "        i+=1\n",
    "    print(guess)\n",
    "    print(i)\n"
   ]
  },
  {
   "cell_type": "markdown",
   "metadata": {},
   "source": [
    "## Tests"
   ]
  },
  {
   "cell_type": "code",
   "execution_count": 4,
   "metadata": {},
   "outputs": [],
   "source": [
    "def test_chromosome(geneSet):\n",
    "    c = Chromosome(string_to_list(geneSet), sum(1 for x in geneSet))\n",
    "    if list_to_string(c.genes) == geneSet and c.fitness == len(geneSet):\n",
    "        print(f'pass')\n",
    "    else:\n",
    "        print(f'failed: genes = <{c.genes}> fitness = c.fitness ')\n",
    "    "
   ]
  },
  {
   "cell_type": "code",
   "execution_count": 5,
   "metadata": {},
   "outputs": [
    {
     "name": "stdout",
     "output_type": "stream",
     "text": [
      "pass\n"
     ]
    }
   ],
   "source": [
    "test_chromosome(geneSet)"
   ]
  },
  {
   "cell_type": "code",
   "execution_count": 6,
   "metadata": {},
   "outputs": [],
   "source": [
    "def test_get_fitness_target_equals_len(target):\n",
    "    f = get_fitness(target, target)\n",
    "    if f == len(target):\n",
    "        print(f'pass')\n",
    "    else:\n",
    "        print(f'failed: fitness = {f} ')\n"
   ]
  },
  {
   "cell_type": "code",
   "execution_count": 7,
   "metadata": {},
   "outputs": [
    {
     "name": "stdout",
     "output_type": "stream",
     "text": [
      "pass\n"
     ]
    }
   ],
   "source": [
    "test_get_fitness_target_equals_len(target)"
   ]
  },
  {
   "cell_type": "code",
   "execution_count": 8,
   "metadata": {},
   "outputs": [],
   "source": [
    "def test_get_fitness_target_one_mutation(target, geneSet):\n",
    "    mutatedTarget =mutate_genes(string_to_list(target), geneSet)\n",
    "    f = get_fitness(mutatedTarget, target)\n",
    "    if f == len(target) -1 :\n",
    "        print(f'pass')\n",
    "    else:\n",
    "        print(f'failed: fitness = {f} ')\n"
   ]
  },
  {
   "cell_type": "code",
   "execution_count": 9,
   "metadata": {},
   "outputs": [
    {
     "name": "stdout",
     "output_type": "stream",
     "text": [
      "pass\n"
     ]
    }
   ],
   "source": [
    "test_get_fitness_target_one_mutation(geneSet, target)"
   ]
  },
  {
   "cell_type": "code",
   "execution_count": 10,
   "metadata": {},
   "outputs": [],
   "source": [
    "def test_generate_parent_yields_fitness_less_than_target_len(target: str, geneSet: str):\n",
    "    c = generate_parent(target, geneSet)\n",
    "    if c.fitness < len(target):\n",
    "        print(f'pass')\n",
    "    else:\n",
    "        print(f'failed: fitness = {c.fitness} ')"
   ]
  },
  {
   "cell_type": "code",
   "execution_count": 11,
   "metadata": {},
   "outputs": [
    {
     "name": "stdout",
     "output_type": "stream",
     "text": [
      "pass\n"
     ]
    }
   ],
   "source": [
    "test_generate_parent_yields_fitness_less_than_target_len(target, geneSet)"
   ]
  },
  {
   "cell_type": "code",
   "execution_count": 12,
   "metadata": {},
   "outputs": [],
   "source": [
    "def test_generate_parent_yields_correct_fitness(target: str, geneSet: str):\n",
    "    c = generate_parent(target, geneSet)\n",
    "    f = get_fitness(c.genes, target)\n",
    "    \n",
    "    if c.fitness == f:\n",
    "        print(f'pass')\n",
    "    else:\n",
    "        print(f'failed: fitness = {c.fitness} ')"
   ]
  },
  {
   "cell_type": "code",
   "execution_count": 13,
   "metadata": {},
   "outputs": [
    {
     "name": "stdout",
     "output_type": "stream",
     "text": [
      "pass\n"
     ]
    }
   ],
   "source": [
    "test_generate_parent_yields_correct_fitness(target, geneSet)"
   ]
  },
  {
   "cell_type": "code",
   "execution_count": 14,
   "metadata": {},
   "outputs": [],
   "source": [
    "def test_generate_parent_yields_correct_len(target: str, geneSet: str):\n",
    "    c = generate_parent(target, geneSet)\n",
    "    if len(c.genes) == len(target):\n",
    "        print(f'pass')\n",
    "    else:\n",
    "        print(f'failed: len(c.genes) = {len(c.genes)} ')"
   ]
  },
  {
   "cell_type": "code",
   "execution_count": 15,
   "metadata": {},
   "outputs": [
    {
     "name": "stdout",
     "output_type": "stream",
     "text": [
      "pass\n"
     ]
    }
   ],
   "source": [
    "test_generate_parent_yields_correct_len(target, geneSet)"
   ]
  },
  {
   "cell_type": "code",
   "execution_count": 20,
   "metadata": {},
   "outputs": [],
   "source": [
    "def test_mutate_genes_gives_different_gene_sets(genes: List, geneSet: str):\n",
    "    mutatedGenes = mutate_genes(genes, geneSet)\n",
    "    if mutatedGenes != genes:\n",
    "        print(f'pass: genes = {genes}  mutatedGenes= {mutatedGenes}')\n",
    "    else:\n",
    "        print(f'fail: genes = {genes}  mutatedGenes= {mutatedGenes}')"
   ]
  },
  {
   "cell_type": "code",
   "execution_count": 21,
   "metadata": {},
   "outputs": [
    {
     "name": "stdout",
     "output_type": "stream",
     "text": [
      "pass: genes = ['p', 'z', 'b', 'l', 'y', 'w', 'S', 'L', 'h', 'Y', 'X', '.']  mutatedGenes= ['p', 'z', 'b', 'r', 'y', 'w', 'S', 'L', 'h', 'Y', 'X', '.']\n"
     ]
    }
   ],
   "source": [
    "guess = generate_parent(target, geneSet)\n",
    "test_mutate_genes_gives_different_gene_sets(guess.genes, geneSet)"
   ]
  },
  {
   "cell_type": "code",
   "execution_count": null,
   "metadata": {},
   "outputs": [],
   "source": []
  },
  {
   "cell_type": "markdown",
   "metadata": {},
   "source": [
    "## Main"
   ]
  },
  {
   "cell_type": "code",
   "execution_count": 22,
   "metadata": {},
   "outputs": [
    {
     "name": "stdout",
     "output_type": "stream",
     "text": [
      "initial guess : genes = SnPNIOpVT!RF  fitnes = 0  len(genes) =12\n",
      "new guess increased fitness : genes = SnPNIOWVT!RF  fitnes = 1, i = 62\n",
      "new guess increased fitness : genes = SnPNI WVT!RF  fitnes = 2, i = 94\n",
      "new guess increased fitness : genes = HnPNI WVT!RF  fitnes = 3, i = 110\n",
      "new guess increased fitness : genes = HnPNI WVT!dF  fitnes = 4, i = 302\n",
      "new guess increased fitness : genes = HnPNo WVT!dF  fitnes = 5, i = 350\n",
      "new guess increased fitness : genes = HnPNo WVT!d!  fitnes = 6, i = 353\n",
      "new guess increased fitness : genes = HnPNo WoT!d!  fitnes = 7, i = 380\n",
      "new guess increased fitness : genes = HnPlo WoT!d!  fitnes = 8, i = 390\n",
      "new guess increased fitness : genes = Hnllo WoT!d!  fitnes = 9, i = 487\n",
      "new guess increased fitness : genes = Hnllo WoTld!  fitnes = 10, i = 640\n",
      "new guess increased fitness : genes = Hello WoTld!  fitnes = 11, i = 949\n",
      "new guess increased fitness : genes = Hello World!  fitnes = 12, i = 1222\n",
      "genes = Hello World!  fitnes = 12\n",
      "1223\n"
     ]
    }
   ],
   "source": [
    "guess_target(target, geneSet, imax = 10000)"
   ]
  },
  {
   "cell_type": "code",
   "execution_count": null,
   "metadata": {},
   "outputs": [],
   "source": []
  }
 ],
 "metadata": {
  "kernelspec": {
   "display_name": "Python 3",
   "language": "python",
   "name": "python3"
  },
  "language_info": {
   "codemirror_mode": {
    "name": "ipython",
    "version": 3
   },
   "file_extension": ".py",
   "mimetype": "text/x-python",
   "name": "python",
   "nbconvert_exporter": "python",
   "pygments_lexer": "ipython3",
   "version": "3.7.7"
  }
 },
 "nbformat": 4,
 "nbformat_minor": 4
}
