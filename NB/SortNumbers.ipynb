{
 "cells": [
  {
   "cell_type": "code",
   "execution_count": 3,
   "metadata": {},
   "outputs": [],
   "source": [
    "import random\n",
    "import copy\n",
    "import datetime\n",
    "from dataclasses import dataclass\n",
    "from typing import List, Dict, Tuple, Sequence, Callable"
   ]
  },
  {
   "cell_type": "code",
   "execution_count": 105,
   "metadata": {},
   "outputs": [],
   "source": [
    "@dataclass\n",
    "class Chromosome:\n",
    "    genes   : List\n",
    "    fitness : float\n"
   ]
  },
  {
   "cell_type": "code",
   "execution_count": 72,
   "metadata": {},
   "outputs": [],
   "source": [
    "def generate_parent(length: int, geneSet: Sequence, get_fitness: Callable)->Chromosome:\n",
    "    genes = []\n",
    "    while len(genes) < length:\n",
    "        sampleSize = min(length - len(genes), len(geneSet))\n",
    "        genes.extend(random.sample(geneSet, sampleSize))\n",
    "    fitness = get_fitness(genes)\n",
    "    return Chromosome(genes, fitness)\n"
   ]
  },
  {
   "cell_type": "code",
   "execution_count": 84,
   "metadata": {},
   "outputs": [],
   "source": [
    "geneSet = [i for i in range(100)]"
   ]
  },
  {
   "cell_type": "code",
   "execution_count": 85,
   "metadata": {},
   "outputs": [],
   "source": [
    "def dummy(genes):\n",
    "    return 1"
   ]
  },
  {
   "cell_type": "code",
   "execution_count": 86,
   "metadata": {},
   "outputs": [],
   "source": [
    "genes = generate_parent(10, geneSet, dummy)"
   ]
  },
  {
   "cell_type": "code",
   "execution_count": 87,
   "metadata": {},
   "outputs": [
    {
     "data": {
      "text/plain": [
       "Chromosome(genes=[7, 36, 95, 87, 3, 18, 62, 52, 75, 80], fitness=1)"
      ]
     },
     "execution_count": 87,
     "metadata": {},
     "output_type": "execute_result"
    }
   ],
   "source": [
    "genes"
   ]
  },
  {
   "cell_type": "code",
   "execution_count": 95,
   "metadata": {},
   "outputs": [],
   "source": [
    "def get_fitness(genes: Sequence)->float:\n",
    "    fitness = 1\n",
    "    \n",
    "    for i in range(1, len(genes)):\n",
    "        if genes[i] > genes[i - 1]:\n",
    "            fitness += 1\n",
    "    return fitness\n"
   ]
  },
  {
   "cell_type": "code",
   "execution_count": 98,
   "metadata": {},
   "outputs": [],
   "source": [
    "genes = generate_parent(10, geneSet, get_fitness)"
   ]
  },
  {
   "cell_type": "code",
   "execution_count": 99,
   "metadata": {},
   "outputs": [
    {
     "data": {
      "text/plain": [
       "Chromosome(genes=[43, 48, 51, 12, 34, 8, 50, 28, 14, 41], fitness=6)"
      ]
     },
     "execution_count": 99,
     "metadata": {},
     "output_type": "execute_result"
    }
   ],
   "source": [
    "genes"
   ]
  },
  {
   "cell_type": "code",
   "execution_count": 103,
   "metadata": {},
   "outputs": [],
   "source": [
    "def test_get_fitness_gives_correct_values():\n",
    "    \n",
    "    for r in [6,11,101]:\n",
    "        mygenes = [i for i in range(1,r)]\n",
    "    \n",
    "        if get_fitness(mygenes) == len(mygenes):\n",
    "            print(f'Hector no te enteras')\n",
    "        else:\n",
    "            print(f'Daddy estas viejo')"
   ]
  },
  {
   "cell_type": "code",
   "execution_count": 104,
   "metadata": {},
   "outputs": [
    {
     "name": "stdout",
     "output_type": "stream",
     "text": [
      "Hector no te enteras\n",
      "Hector no te enteras\n",
      "Hector no te enteras\n"
     ]
    }
   ],
   "source": [
    "test_get_fitness_gives_correct_values()"
   ]
  },
  {
   "cell_type": "code",
   "execution_count": null,
   "metadata": {},
   "outputs": [],
   "source": []
  },
  {
   "cell_type": "code",
   "execution_count": 106,
   "metadata": {},
   "outputs": [],
   "source": [
    "def get_fitness(genes: Sequence)->float:\n",
    "    fitness = 1\n",
    "    \n",
    "    for i in range(1, len(genes)):\n",
    "        if genes[i] > genes[i - 1]:\n",
    "            fitness += 1\n",
    "    return fitness\n",
    "\n",
    "\n",
    "def mutate_genes(genes: List, geneSet: List)->List:\n",
    "    \"\"\"Mutate genes target choosing character from geneSet\"\"\"\n",
    "\n",
    "    mutatedGenes         = genes[:]\n",
    "    index                = random.randrange(0, len(mutatedGenes))\n",
    "    newGene, alternate   = random.sample(geneSet, 2)\n",
    "    mutatedGenes[index]  = alternate if newGene == mutatedGenes[index] else newGene\n",
    "    return mutatedGenes\n",
    "\n",
    "\n",
    "def mutate_chromosome(geneSet:     Sequence,\n",
    "                      parent:      Chromosome,\n",
    "                      get_fitness: Callable)->Chromosome:\n",
    "    \"\"\"Generate a mutated chromosome\"\"\"\n",
    "    mutatedGenes = mutate_genes(parent.genes, geneSet)\n",
    "    fitness      = get_fitness(mutatedGenes)\n",
    "    return Chromosome(mutatedGenes, fitness)\n",
    "\n"
   ]
  },
  {
   "cell_type": "code",
   "execution_count": 112,
   "metadata": {},
   "outputs": [],
   "source": [
    "geneSet = [i for i in range(100)]\n",
    "\n",
    "def sort_numbers(totalNumbers, imax=1000):\n",
    "    startTime = datetime.datetime.now()\n",
    "    random.seed()\n",
    "    setToSort = generate_parent(totalNumbers, geneSet, get_fitness)\n",
    "    print(f'Set to Sort = {setToSort}')\n",
    "    \n",
    "    optimalFitness = len(setToSort.genes)\n",
    "    print(f'optimal fitness = {optimalFitness}')\n",
    "    \n",
    "    i =0\n",
    "    while setToSort.fitness < optimalFitness and i < imax:\n",
    "        mutateChromosome = mutate_chromosome(geneSet, setToSort, get_fitness)\n",
    "        if mutateChromosome.fitness > setToSort.fitness:\n",
    "            setToSort = mutateChromosome\n",
    "            print(f'new guess increased fitness : {setToSort}, i = {i}')\n",
    "        i+=1\n",
    "    print(setToSort)\n",
    "    print(i)\n",
    "\n",
    "\n"
   ]
  },
  {
   "cell_type": "code",
   "execution_count": 114,
   "metadata": {},
   "outputs": [
    {
     "name": "stdout",
     "output_type": "stream",
     "text": [
      "Set to Sort = Chromosome(genes=[86, 58, 65, 71, 16, 34, 18, 41, 9, 22], fitness=6)\n",
      "optimal fitness = 10\n",
      "new guess increased fitness : Chromosome(genes=[50, 58, 65, 71, 16, 34, 18, 41, 9, 22], fitness=7), i = 42\n",
      "new guess increased fitness : Chromosome(genes=[50, 58, 65, 71, 16, 34, 37, 41, 9, 22], fitness=8), i = 61\n",
      "Chromosome(genes=[50, 58, 65, 71, 16, 34, 37, 41, 9, 22], fitness=8)\n",
      "10000\n"
     ]
    }
   ],
   "source": [
    "sort_numbers(totalNumbers=10, imax=10000)"
   ]
  },
  {
   "cell_type": "code",
   "execution_count": 115,
   "metadata": {},
   "outputs": [],
   "source": [
    "@dataclass\n",
    "class Fitness:\n",
    "    sortCount : int\n",
    "    gap       : int\n",
    "\n",
    "@dataclass\n",
    "class Chromosome:\n",
    "    genes   : List\n",
    "    fitness : Fitness\n"
   ]
  },
  {
   "cell_type": "code",
   "execution_count": 116,
   "metadata": {},
   "outputs": [],
   "source": [
    "def get_fitness(genes : List)->Fitness:\n",
    "    sortCount = 1\n",
    "    gap = 0\n",
    "\n",
    "    for i in range(1, len(genes)):\n",
    "        if genes[i] > genes[i - 1]:\n",
    "            sortCount += 1\n",
    "        else:\n",
    "            gap += genes[i - 1] - genes[i]\n",
    "    return Fitness(sortCount, gap)\n"
   ]
  },
  {
   "cell_type": "code",
   "execution_count": 123,
   "metadata": {},
   "outputs": [],
   "source": [
    "def compare_fitness(f1: Fitness, f2: Fitness)->bool:\n",
    "    \"\"\"Returns True if f1 is fitter than f2\"\"\"\n",
    "    if f1.sortCount == f2.sortCount:\n",
    "        return f1.gap <=f2.gap\n",
    "    else: \n",
    "        return f1.sortCount >= f2.sortCount"
   ]
  },
  {
   "cell_type": "code",
   "execution_count": 126,
   "metadata": {},
   "outputs": [],
   "source": [
    "geneSet = [i for i in range(100)]\n",
    "\n",
    "def sort_numbers(totalNumbers, verbose=True, imax=10000):\n",
    "    startTime = datetime.datetime.now()\n",
    "    random.seed()\n",
    "    setToSort = generate_parent(totalNumbers, geneSet, get_fitness)\n",
    "    print(f'Set to Sort = {setToSort}')\n",
    "\n",
    "    optimalFitness = Fitness(totalNumbers, 0)\n",
    "    \n",
    "    i = 0\n",
    "    while compare_fitness(setToSort.fitness, optimalFitness) == False and i < imax:\n",
    "        newGuess = mutate_chromosome(geneSet, setToSort, get_fitness)\n",
    "        if compare_fitness(newGuess.fitness, setToSort.fitness) == True:\n",
    "            if verbose:\n",
    "                print(f'new guess increased fitness  (increased sortCount): {setToSort}, i = {i}')\n",
    "            setToSort = Chromosome(newGuess.genes, newGuess.fitness)\n",
    "        \n",
    "        i+=1\n",
    "    print(i)\n",
    "    print(setToSort)\n",
    "    \n",
    "\n",
    "\n",
    " "
   ]
  },
  {
   "cell_type": "code",
   "execution_count": 127,
   "metadata": {},
   "outputs": [
    {
     "name": "stdout",
     "output_type": "stream",
     "text": [
      "Set to Sort = Chromosome(genes=[64, 99, 41, 69, 68, 5, 66, 38, 43, 32], fitness=Fitness(sortCount=5, gap=161))\n",
      "new guess increased fitness  (increased sortCount): Chromosome(genes=[64, 99, 41, 69, 68, 5, 66, 38, 43, 32], fitness=Fitness(sortCount=5, gap=161)), i = 0\n",
      "new guess increased fitness  (increased sortCount): Chromosome(genes=[96, 99, 41, 69, 68, 5, 66, 38, 43, 32], fitness=Fitness(sortCount=5, gap=161)), i = 2\n",
      "new guess increased fitness  (increased sortCount): Chromosome(genes=[96, 99, 41, 69, 68, 5, 66, 38, 43, 81], fitness=Fitness(sortCount=6, gap=150)), i = 3\n",
      "new guess increased fitness  (increased sortCount): Chromosome(genes=[33, 99, 41, 69, 68, 5, 66, 38, 43, 81], fitness=Fitness(sortCount=6, gap=150)), i = 4\n",
      "new guess increased fitness  (increased sortCount): Chromosome(genes=[33, 99, 41, 69, 68, 5, 66, 38, 43, 92], fitness=Fitness(sortCount=6, gap=150)), i = 6\n",
      "new guess increased fitness  (increased sortCount): Chromosome(genes=[33, 99, 41, 69, 30, 5, 66, 38, 43, 92], fitness=Fitness(sortCount=6, gap=150)), i = 7\n",
      "new guess increased fitness  (increased sortCount): Chromosome(genes=[33, 99, 41, 69, 30, 81, 66, 38, 43, 92], fitness=Fitness(sortCount=6, gap=140)), i = 8\n",
      "new guess increased fitness  (increased sortCount): Chromosome(genes=[76, 99, 41, 69, 30, 81, 66, 38, 43, 92], fitness=Fitness(sortCount=6, gap=140)), i = 9\n",
      "new guess increased fitness  (increased sortCount): Chromosome(genes=[76, 99, 41, 69, 80, 81, 66, 38, 43, 92], fitness=Fitness(sortCount=7, gap=101)), i = 14\n",
      "new guess increased fitness  (increased sortCount): Chromosome(genes=[77, 99, 41, 69, 80, 81, 66, 38, 43, 92], fitness=Fitness(sortCount=7, gap=101)), i = 16\n",
      "new guess increased fitness  (increased sortCount): Chromosome(genes=[77, 99, 41, 69, 80, 81, 66, 38, 91, 92], fitness=Fitness(sortCount=7, gap=101)), i = 17\n",
      "new guess increased fitness  (increased sortCount): Chromosome(genes=[13, 99, 41, 69, 80, 81, 66, 38, 91, 92], fitness=Fitness(sortCount=7, gap=101)), i = 18\n",
      "new guess increased fitness  (increased sortCount): Chromosome(genes=[13, 99, 41, 69, 80, 81, 66, 58, 91, 92], fitness=Fitness(sortCount=7, gap=81)), i = 23\n",
      "new guess increased fitness  (increased sortCount): Chromosome(genes=[44, 99, 41, 69, 80, 81, 66, 58, 91, 92], fitness=Fitness(sortCount=7, gap=81)), i = 24\n",
      "new guess increased fitness  (increased sortCount): Chromosome(genes=[44, 99, 60, 69, 80, 81, 66, 58, 91, 92], fitness=Fitness(sortCount=7, gap=62)), i = 37\n",
      "new guess increased fitness  (increased sortCount): Chromosome(genes=[44, 80, 60, 69, 80, 81, 66, 58, 91, 92], fitness=Fitness(sortCount=7, gap=43)), i = 38\n",
      "new guess increased fitness  (increased sortCount): Chromosome(genes=[44, 80, 85, 69, 80, 81, 66, 58, 91, 92], fitness=Fitness(sortCount=7, gap=39)), i = 43\n",
      "new guess increased fitness  (increased sortCount): Chromosome(genes=[44, 80, 85, 72, 80, 81, 66, 58, 91, 92], fitness=Fitness(sortCount=7, gap=36)), i = 46\n",
      "new guess increased fitness  (increased sortCount): Chromosome(genes=[44, 80, 85, 72, 80, 81, 74, 58, 91, 92], fitness=Fitness(sortCount=7, gap=36)), i = 47\n",
      "new guess increased fitness  (increased sortCount): Chromosome(genes=[44, 80, 85, 72, 80, 81, 38, 58, 91, 92], fitness=Fitness(sortCount=8, gap=56)), i = 57\n",
      "new guess increased fitness  (increased sortCount): Chromosome(genes=[44, 80, 85, 72, 80, 81, 45, 58, 91, 92], fitness=Fitness(sortCount=8, gap=49)), i = 66\n",
      "new guess increased fitness  (increased sortCount): Chromosome(genes=[44, 80, 85, 72, 80, 81, 45, 58, 62, 92], fitness=Fitness(sortCount=8, gap=49)), i = 76\n",
      "new guess increased fitness  (increased sortCount): Chromosome(genes=[44, 52, 85, 72, 80, 81, 45, 58, 62, 92], fitness=Fitness(sortCount=8, gap=49)), i = 85\n",
      "new guess increased fitness  (increased sortCount): Chromosome(genes=[44, 52, 48, 72, 80, 81, 45, 58, 62, 92], fitness=Fitness(sortCount=8, gap=40)), i = 87\n",
      "new guess increased fitness  (increased sortCount): Chromosome(genes=[48, 52, 48, 72, 80, 81, 45, 58, 62, 92], fitness=Fitness(sortCount=8, gap=40)), i = 91\n",
      "new guess increased fitness  (increased sortCount): Chromosome(genes=[48, 52, 48, 72, 80, 81, 53, 58, 62, 92], fitness=Fitness(sortCount=8, gap=32)), i = 101\n",
      "new guess increased fitness  (increased sortCount): Chromosome(genes=[48, 52, 48, 72, 80, 81, 53, 58, 62, 95], fitness=Fitness(sortCount=8, gap=32)), i = 104\n",
      "new guess increased fitness  (increased sortCount): Chromosome(genes=[48, 52, 48, 72, 80, 52, 53, 58, 62, 95], fitness=Fitness(sortCount=8, gap=32)), i = 110\n",
      "new guess increased fitness  (increased sortCount): Chromosome(genes=[48, 52, 48, 72, 80, 52, 54, 58, 62, 95], fitness=Fitness(sortCount=8, gap=32)), i = 111\n",
      "new guess increased fitness  (increased sortCount): Chromosome(genes=[13, 52, 48, 72, 80, 52, 54, 58, 62, 95], fitness=Fitness(sortCount=8, gap=32)), i = 113\n",
      "new guess increased fitness  (increased sortCount): Chromosome(genes=[13, 52, 48, 72, 80, 52, 54, 58, 68, 95], fitness=Fitness(sortCount=8, gap=32)), i = 127\n",
      "new guess increased fitness  (increased sortCount): Chromosome(genes=[13, 17, 48, 72, 80, 52, 54, 58, 68, 95], fitness=Fitness(sortCount=9, gap=28)), i = 128\n",
      "new guess increased fitness  (increased sortCount): Chromosome(genes=[13, 17, 49, 72, 80, 52, 54, 58, 68, 95], fitness=Fitness(sortCount=9, gap=28)), i = 134\n",
      "new guess increased fitness  (increased sortCount): Chromosome(genes=[13, 17, 49, 72, 73, 52, 54, 58, 68, 95], fitness=Fitness(sortCount=9, gap=21)), i = 144\n",
      "new guess increased fitness  (increased sortCount): Chromosome(genes=[3, 17, 49, 72, 73, 52, 54, 58, 68, 95], fitness=Fitness(sortCount=9, gap=21)), i = 153\n",
      "new guess increased fitness  (increased sortCount): Chromosome(genes=[3, 21, 49, 72, 73, 52, 54, 58, 68, 95], fitness=Fitness(sortCount=9, gap=21)), i = 165\n",
      "new guess increased fitness  (increased sortCount): Chromosome(genes=[3, 21, 49, 61, 73, 52, 54, 58, 68, 95], fitness=Fitness(sortCount=9, gap=21)), i = 166\n",
      "new guess increased fitness  (increased sortCount): Chromosome(genes=[3, 21, 49, 63, 73, 52, 54, 58, 68, 95], fitness=Fitness(sortCount=9, gap=21)), i = 168\n",
      "new guess increased fitness  (increased sortCount): Chromosome(genes=[3, 21, 59, 63, 73, 52, 54, 58, 68, 95], fitness=Fitness(sortCount=9, gap=21)), i = 171\n",
      "new guess increased fitness  (increased sortCount): Chromosome(genes=[3, 42, 59, 63, 73, 52, 54, 58, 68, 95], fitness=Fitness(sortCount=9, gap=21)), i = 173\n",
      "new guess increased fitness  (increased sortCount): Chromosome(genes=[3, 42, 59, 66, 73, 52, 54, 58, 68, 95], fitness=Fitness(sortCount=9, gap=21)), i = 188\n",
      "new guess increased fitness  (increased sortCount): Chromosome(genes=[3, 24, 59, 66, 73, 52, 54, 58, 68, 95], fitness=Fitness(sortCount=9, gap=21)), i = 191\n",
      "new guess increased fitness  (increased sortCount): Chromosome(genes=[3, 24, 61, 66, 73, 52, 54, 58, 68, 95], fitness=Fitness(sortCount=9, gap=21)), i = 192\n",
      "new guess increased fitness  (increased sortCount): Chromosome(genes=[3, 24, 42, 66, 73, 52, 54, 58, 68, 95], fitness=Fitness(sortCount=9, gap=21)), i = 204\n",
      "new guess increased fitness  (increased sortCount): Chromosome(genes=[3, 24, 42, 66, 73, 52, 54, 58, 68, 73], fitness=Fitness(sortCount=9, gap=21)), i = 210\n",
      "new guess increased fitness  (increased sortCount): Chromosome(genes=[3, 24, 42, 66, 67, 52, 54, 58, 68, 73], fitness=Fitness(sortCount=9, gap=15)), i = 214\n",
      "new guess increased fitness  (increased sortCount): Chromosome(genes=[3, 10, 42, 66, 67, 52, 54, 58, 68, 73], fitness=Fitness(sortCount=9, gap=15)), i = 216\n",
      "new guess increased fitness  (increased sortCount): Chromosome(genes=[3, 38, 42, 66, 67, 52, 54, 58, 68, 73], fitness=Fitness(sortCount=9, gap=15)), i = 227\n",
      "new guess increased fitness  (increased sortCount): Chromosome(genes=[3, 38, 56, 66, 67, 52, 54, 58, 68, 73], fitness=Fitness(sortCount=9, gap=15)), i = 231\n",
      "new guess increased fitness  (increased sortCount): Chromosome(genes=[21, 38, 56, 66, 67, 52, 54, 58, 68, 73], fitness=Fitness(sortCount=9, gap=15)), i = 234\n",
      "new guess increased fitness  (increased sortCount): Chromosome(genes=[21, 38, 56, 66, 67, 52, 54, 58, 68, 78], fitness=Fitness(sortCount=9, gap=15)), i = 247\n",
      "new guess increased fitness  (increased sortCount): Chromosome(genes=[21, 38, 56, 66, 67, 52, 54, 58, 66, 78], fitness=Fitness(sortCount=9, gap=15)), i = 248\n",
      "new guess increased fitness  (increased sortCount): Chromosome(genes=[33, 38, 56, 66, 67, 52, 54, 58, 66, 78], fitness=Fitness(sortCount=9, gap=15)), i = 250\n",
      "new guess increased fitness  (increased sortCount): Chromosome(genes=[33, 37, 56, 66, 67, 52, 54, 58, 66, 78], fitness=Fitness(sortCount=9, gap=15)), i = 262\n",
      "new guess increased fitness  (increased sortCount): Chromosome(genes=[33, 37, 56, 66, 67, 52, 54, 58, 66, 84], fitness=Fitness(sortCount=9, gap=15)), i = 279\n",
      "new guess increased fitness  (increased sortCount): Chromosome(genes=[23, 37, 56, 66, 67, 52, 54, 58, 66, 84], fitness=Fitness(sortCount=9, gap=15)), i = 288\n",
      "new guess increased fitness  (increased sortCount): Chromosome(genes=[23, 37, 56, 66, 67, 52, 54, 58, 76, 84], fitness=Fitness(sortCount=9, gap=15)), i = 293\n",
      "new guess increased fitness  (increased sortCount): Chromosome(genes=[10, 37, 56, 66, 67, 52, 54, 58, 76, 84], fitness=Fitness(sortCount=9, gap=15)), i = 294\n",
      "new guess increased fitness  (increased sortCount): Chromosome(genes=[10, 37, 56, 66, 67, 52, 54, 74, 76, 84], fitness=Fitness(sortCount=9, gap=15)), i = 301\n",
      "new guess increased fitness  (increased sortCount): Chromosome(genes=[10, 37, 56, 66, 67, 52, 54, 74, 76, 91], fitness=Fitness(sortCount=9, gap=15)), i = 302\n",
      "new guess increased fitness  (increased sortCount): Chromosome(genes=[10, 37, 50, 66, 67, 52, 54, 74, 76, 91], fitness=Fitness(sortCount=9, gap=15)), i = 305\n",
      "new guess increased fitness  (increased sortCount): Chromosome(genes=[10, 37, 50, 58, 67, 52, 54, 74, 76, 91], fitness=Fitness(sortCount=9, gap=15)), i = 313\n",
      "new guess increased fitness  (increased sortCount): Chromosome(genes=[10, 18, 50, 58, 67, 52, 54, 74, 76, 91], fitness=Fitness(sortCount=9, gap=15)), i = 315\n",
      "new guess increased fitness  (increased sortCount): Chromosome(genes=[10, 31, 50, 58, 67, 52, 54, 74, 76, 91], fitness=Fitness(sortCount=9, gap=15)), i = 318\n",
      "new guess increased fitness  (increased sortCount): Chromosome(genes=[10, 31, 50, 58, 62, 52, 54, 74, 76, 91], fitness=Fitness(sortCount=9, gap=10)), i = 320\n",
      "new guess increased fitness  (increased sortCount): Chromosome(genes=[10, 31, 50, 58, 49, 52, 54, 74, 76, 91], fitness=Fitness(sortCount=9, gap=9)), i = 325\n",
      "new guess increased fitness  (increased sortCount): Chromosome(genes=[10, 31, 50, 58, 60, 52, 54, 74, 76, 91], fitness=Fitness(sortCount=9, gap=8)), i = 329\n",
      "new guess increased fitness  (increased sortCount): Chromosome(genes=[10, 31, 41, 58, 60, 52, 54, 74, 76, 91], fitness=Fitness(sortCount=9, gap=8)), i = 331\n",
      "new guess increased fitness  (increased sortCount): Chromosome(genes=[10, 35, 41, 58, 60, 52, 54, 74, 76, 91], fitness=Fitness(sortCount=9, gap=8)), i = 333\n",
      "new guess increased fitness  (increased sortCount): Chromosome(genes=[10, 19, 41, 58, 60, 52, 54, 74, 76, 91], fitness=Fitness(sortCount=9, gap=8)), i = 340\n",
      "new guess increased fitness  (increased sortCount): Chromosome(genes=[10, 19, 41, 58, 60, 52, 65, 74, 76, 91], fitness=Fitness(sortCount=9, gap=8)), i = 341\n",
      "new guess increased fitness  (increased sortCount): Chromosome(genes=[10, 19, 41, 58, 60, 52, 65, 66, 76, 91], fitness=Fitness(sortCount=9, gap=8)), i = 352\n",
      "new guess increased fitness  (increased sortCount): Chromosome(genes=[10, 33, 41, 58, 60, 52, 65, 66, 76, 91], fitness=Fitness(sortCount=9, gap=8)), i = 358\n",
      "new guess increased fitness  (increased sortCount): Chromosome(genes=[10, 33, 48, 58, 60, 52, 65, 66, 76, 91], fitness=Fitness(sortCount=9, gap=8)), i = 359\n",
      "new guess increased fitness  (increased sortCount): Chromosome(genes=[10, 27, 48, 58, 60, 52, 65, 66, 76, 91], fitness=Fitness(sortCount=9, gap=8)), i = 360\n",
      "new guess increased fitness  (increased sortCount): Chromosome(genes=[25, 27, 48, 58, 60, 52, 65, 66, 76, 91], fitness=Fitness(sortCount=9, gap=8)), i = 362\n",
      "new guess increased fitness  (increased sortCount): Chromosome(genes=[25, 27, 48, 58, 60, 52, 65, 66, 77, 91], fitness=Fitness(sortCount=9, gap=8)), i = 367\n",
      "new guess increased fitness  (increased sortCount): Chromosome(genes=[25, 27, 48, 58, 60, 52, 55, 66, 77, 91], fitness=Fitness(sortCount=9, gap=8)), i = 368\n",
      "new guess increased fitness  (increased sortCount): Chromosome(genes=[25, 27, 48, 58, 60, 52, 55, 66, 77, 88], fitness=Fitness(sortCount=9, gap=8)), i = 371\n",
      "new guess increased fitness  (increased sortCount): Chromosome(genes=[25, 27, 48, 58, 60, 52, 55, 66, 77, 94], fitness=Fitness(sortCount=9, gap=8)), i = 374\n",
      "new guess increased fitness  (increased sortCount): Chromosome(genes=[25, 27, 48, 58, 60, 52, 55, 66, 74, 94], fitness=Fitness(sortCount=9, gap=8)), i = 385\n",
      "new guess increased fitness  (increased sortCount): Chromosome(genes=[25, 27, 48, 58, 60, 52, 55, 66, 74, 86], fitness=Fitness(sortCount=9, gap=8)), i = 386\n",
      "new guess increased fitness  (increased sortCount): Chromosome(genes=[25, 27, 49, 58, 60, 52, 55, 66, 74, 86], fitness=Fitness(sortCount=9, gap=8)), i = 391\n",
      "new guess increased fitness  (increased sortCount): Chromosome(genes=[11, 27, 49, 58, 60, 52, 55, 66, 74, 86], fitness=Fitness(sortCount=9, gap=8)), i = 397\n",
      "new guess increased fitness  (increased sortCount): Chromosome(genes=[11, 27, 49, 58, 60, 52, 58, 66, 74, 86], fitness=Fitness(sortCount=9, gap=8)), i = 400\n",
      "new guess increased fitness  (increased sortCount): Chromosome(genes=[11, 27, 49, 58, 60, 52, 58, 64, 74, 86], fitness=Fitness(sortCount=9, gap=8)), i = 403\n",
      "new guess increased fitness  (increased sortCount): Chromosome(genes=[11, 27, 49, 58, 60, 52, 58, 64, 74, 88], fitness=Fitness(sortCount=9, gap=8)), i = 412\n",
      "new guess increased fitness  (increased sortCount): Chromosome(genes=[11, 27, 49, 58, 60, 52, 58, 64, 74, 85], fitness=Fitness(sortCount=9, gap=8)), i = 413\n",
      "new guess increased fitness  (increased sortCount): Chromosome(genes=[22, 27, 49, 58, 60, 52, 58, 64, 74, 85], fitness=Fitness(sortCount=9, gap=8)), i = 420\n",
      "new guess increased fitness  (increased sortCount): Chromosome(genes=[1, 27, 49, 58, 60, 52, 58, 64, 74, 85], fitness=Fitness(sortCount=9, gap=8)), i = 425\n",
      "new guess increased fitness  (increased sortCount): Chromosome(genes=[1, 27, 49, 58, 60, 52, 58, 64, 80, 85], fitness=Fitness(sortCount=9, gap=8)), i = 426\n",
      "new guess increased fitness  (increased sortCount): Chromosome(genes=[1, 27, 49, 58, 60, 52, 58, 64, 77, 85], fitness=Fitness(sortCount=9, gap=8)), i = 438\n",
      "new guess increased fitness  (increased sortCount): Chromosome(genes=[1, 27, 38, 58, 60, 52, 58, 64, 77, 85], fitness=Fitness(sortCount=9, gap=8)), i = 440\n",
      "new guess increased fitness  (increased sortCount): Chromosome(genes=[1, 29, 38, 58, 60, 52, 58, 64, 77, 85], fitness=Fitness(sortCount=9, gap=8)), i = 444\n",
      "new guess increased fitness  (increased sortCount): Chromosome(genes=[1, 29, 38, 58, 60, 52, 58, 64, 66, 85], fitness=Fitness(sortCount=9, gap=8)), i = 450\n",
      "new guess increased fitness  (increased sortCount): Chromosome(genes=[1, 29, 38, 58, 60, 52, 58, 64, 66, 99], fitness=Fitness(sortCount=9, gap=8)), i = 468\n",
      "new guess increased fitness  (increased sortCount): Chromosome(genes=[1, 27, 38, 58, 60, 52, 58, 64, 66, 99], fitness=Fitness(sortCount=9, gap=8)), i = 483\n",
      "new guess increased fitness  (increased sortCount): Chromosome(genes=[1, 27, 38, 58, 60, 56, 58, 64, 66, 99], fitness=Fitness(sortCount=9, gap=4)), i = 484\n",
      "new guess increased fitness  (increased sortCount): Chromosome(genes=[1, 31, 38, 58, 60, 56, 58, 64, 66, 99], fitness=Fitness(sortCount=9, gap=4)), i = 490\n",
      "new guess increased fitness  (increased sortCount): Chromosome(genes=[13, 31, 38, 58, 60, 56, 58, 64, 66, 99], fitness=Fitness(sortCount=9, gap=4)), i = 495\n",
      "new guess increased fitness  (increased sortCount): Chromosome(genes=[13, 31, 38, 58, 60, 56, 58, 64, 66, 79], fitness=Fitness(sortCount=9, gap=4)), i = 499\n",
      "new guess increased fitness  (increased sortCount): Chromosome(genes=[13, 31, 47, 58, 60, 56, 58, 64, 66, 79], fitness=Fitness(sortCount=9, gap=4)), i = 501\n",
      "new guess increased fitness  (increased sortCount): Chromosome(genes=[13, 31, 56, 58, 60, 56, 58, 64, 66, 79], fitness=Fitness(sortCount=9, gap=4)), i = 512\n",
      "new guess increased fitness  (increased sortCount): Chromosome(genes=[13, 31, 46, 58, 60, 56, 58, 64, 66, 79], fitness=Fitness(sortCount=9, gap=4)), i = 516\n",
      "new guess increased fitness  (increased sortCount): Chromosome(genes=[13, 31, 46, 58, 60, 56, 58, 64, 68, 79], fitness=Fitness(sortCount=9, gap=4)), i = 521\n",
      "new guess increased fitness  (increased sortCount): Chromosome(genes=[13, 31, 46, 58, 60, 56, 58, 64, 68, 88], fitness=Fitness(sortCount=9, gap=4)), i = 522\n",
      "new guess increased fitness  (increased sortCount): Chromosome(genes=[13, 31, 46, 58, 60, 56, 58, 64, 68, 87], fitness=Fitness(sortCount=9, gap=4)), i = 538\n",
      "new guess increased fitness  (increased sortCount): Chromosome(genes=[13, 31, 46, 58, 60, 56, 58, 62, 68, 87], fitness=Fitness(sortCount=9, gap=4)), i = 540\n",
      "new guess increased fitness  (increased sortCount): Chromosome(genes=[13, 31, 33, 58, 60, 56, 58, 62, 68, 87], fitness=Fitness(sortCount=9, gap=4)), i = 544\n",
      "new guess increased fitness  (increased sortCount): Chromosome(genes=[13, 31, 33, 41, 60, 56, 58, 62, 68, 87], fitness=Fitness(sortCount=9, gap=4)), i = 549\n",
      "new guess increased fitness  (increased sortCount): Chromosome(genes=[13, 31, 33, 41, 60, 56, 58, 62, 68, 90], fitness=Fitness(sortCount=9, gap=4)), i = 555\n",
      "new guess increased fitness  (increased sortCount): Chromosome(genes=[3, 31, 33, 41, 60, 56, 58, 62, 68, 90], fitness=Fitness(sortCount=9, gap=4)), i = 557\n",
      "new guess increased fitness  (increased sortCount): Chromosome(genes=[3, 31, 33, 41, 60, 56, 58, 63, 68, 90], fitness=Fitness(sortCount=9, gap=4)), i = 565\n",
      "new guess increased fitness  (increased sortCount): Chromosome(genes=[3, 31, 33, 54, 60, 56, 58, 63, 68, 90], fitness=Fitness(sortCount=9, gap=4)), i = 567\n",
      "new guess increased fitness  (increased sortCount): Chromosome(genes=[3, 31, 33, 54, 60, 56, 58, 63, 68, 85], fitness=Fitness(sortCount=9, gap=4)), i = 568\n",
      "new guess increased fitness  (increased sortCount): Chromosome(genes=[3, 31, 39, 54, 60, 56, 58, 63, 68, 85], fitness=Fitness(sortCount=9, gap=4)), i = 578\n",
      "new guess increased fitness  (increased sortCount): Chromosome(genes=[3, 31, 39, 54, 60, 56, 61, 63, 68, 85], fitness=Fitness(sortCount=9, gap=4)), i = 580\n",
      "new guess increased fitness  (increased sortCount): Chromosome(genes=[3, 31, 38, 54, 60, 56, 61, 63, 68, 85], fitness=Fitness(sortCount=9, gap=4)), i = 581\n",
      "new guess increased fitness  (increased sortCount): Chromosome(genes=[3, 31, 38, 54, 60, 56, 61, 67, 68, 85], fitness=Fitness(sortCount=9, gap=4)), i = 596\n",
      "new guess increased fitness  (increased sortCount): Chromosome(genes=[3, 31, 38, 42, 60, 56, 61, 67, 68, 85], fitness=Fitness(sortCount=9, gap=4)), i = 598\n",
      "new guess increased fitness  (increased sortCount): Chromosome(genes=[3, 31, 38, 42, 60, 56, 61, 64, 68, 85], fitness=Fitness(sortCount=9, gap=4)), i = 600\n",
      "new guess increased fitness  (increased sortCount): Chromosome(genes=[3, 31, 38, 58, 60, 56, 61, 64, 68, 85], fitness=Fitness(sortCount=9, gap=4)), i = 608\n",
      "new guess increased fitness  (increased sortCount): Chromosome(genes=[15, 31, 38, 58, 60, 56, 61, 64, 68, 85], fitness=Fitness(sortCount=9, gap=4)), i = 611\n",
      "new guess increased fitness  (increased sortCount): Chromosome(genes=[15, 31, 38, 58, 59, 56, 61, 64, 68, 85], fitness=Fitness(sortCount=9, gap=3)), i = 615\n",
      "new guess increased fitness  (increased sortCount): Chromosome(genes=[14, 31, 38, 58, 59, 56, 61, 64, 68, 85], fitness=Fitness(sortCount=9, gap=3)), i = 618\n",
      "new guess increased fitness  (increased sortCount): Chromosome(genes=[14, 31, 38, 58, 59, 56, 61, 64, 68, 99], fitness=Fitness(sortCount=9, gap=3)), i = 619\n",
      "new guess increased fitness  (increased sortCount): Chromosome(genes=[14, 31, 38, 40, 59, 56, 61, 64, 68, 99], fitness=Fitness(sortCount=9, gap=3)), i = 632\n",
      "new guess increased fitness  (increased sortCount): Chromosome(genes=[14, 31, 38, 41, 59, 56, 61, 64, 68, 99], fitness=Fitness(sortCount=9, gap=3)), i = 634\n",
      "new guess increased fitness  (increased sortCount): Chromosome(genes=[14, 31, 38, 56, 59, 56, 61, 64, 68, 99], fitness=Fitness(sortCount=9, gap=3)), i = 636\n",
      "new guess increased fitness  (increased sortCount): Chromosome(genes=[14, 31, 39, 56, 59, 56, 61, 64, 68, 99], fitness=Fitness(sortCount=9, gap=3)), i = 637\n",
      "new guess increased fitness  (increased sortCount): Chromosome(genes=[14, 31, 39, 56, 59, 56, 61, 64, 88, 99], fitness=Fitness(sortCount=9, gap=3)), i = 640\n",
      "new guess increased fitness  (increased sortCount): Chromosome(genes=[14, 31, 39, 56, 59, 56, 60, 64, 88, 99], fitness=Fitness(sortCount=9, gap=3)), i = 645\n",
      "new guess increased fitness  (increased sortCount): Chromosome(genes=[23, 31, 39, 56, 59, 56, 60, 64, 88, 99], fitness=Fitness(sortCount=9, gap=3)), i = 655\n",
      "new guess increased fitness  (increased sortCount): Chromosome(genes=[8, 31, 39, 56, 59, 56, 60, 64, 88, 99], fitness=Fitness(sortCount=9, gap=3)), i = 661\n",
      "new guess increased fitness  (increased sortCount): Chromosome(genes=[8, 15, 39, 56, 59, 56, 60, 64, 88, 99], fitness=Fitness(sortCount=9, gap=3)), i = 662\n",
      "new guess increased fitness  (increased sortCount): Chromosome(genes=[1, 15, 39, 56, 59, 56, 60, 64, 88, 99], fitness=Fitness(sortCount=9, gap=3)), i = 670\n",
      "new guess increased fitness  (increased sortCount): Chromosome(genes=[1, 15, 39, 56, 59, 56, 60, 64, 88, 90], fitness=Fitness(sortCount=9, gap=3)), i = 671\n",
      "new guess increased fitness  (increased sortCount): Chromosome(genes=[1, 15, 47, 56, 59, 56, 60, 64, 88, 90], fitness=Fitness(sortCount=9, gap=3)), i = 680\n",
      "new guess increased fitness  (increased sortCount): Chromosome(genes=[1, 8, 47, 56, 59, 56, 60, 64, 88, 90], fitness=Fitness(sortCount=9, gap=3)), i = 682\n",
      "new guess increased fitness  (increased sortCount): Chromosome(genes=[1, 8, 52, 56, 59, 56, 60, 64, 88, 90], fitness=Fitness(sortCount=9, gap=3)), i = 688\n",
      "new guess increased fitness  (increased sortCount): Chromosome(genes=[1, 8, 52, 56, 59, 56, 60, 64, 78, 90], fitness=Fitness(sortCount=9, gap=3)), i = 691\n",
      "new guess increased fitness  (increased sortCount): Chromosome(genes=[1, 8, 52, 56, 59, 56, 60, 64, 78, 95], fitness=Fitness(sortCount=9, gap=3)), i = 714\n",
      "new guess increased fitness  (increased sortCount): Chromosome(genes=[1, 2, 52, 56, 59, 56, 60, 64, 78, 95], fitness=Fitness(sortCount=9, gap=3)), i = 721\n",
      "new guess increased fitness  (increased sortCount): Chromosome(genes=[1, 21, 52, 56, 59, 56, 60, 64, 78, 95], fitness=Fitness(sortCount=9, gap=3)), i = 724\n",
      "new guess increased fitness  (increased sortCount): Chromosome(genes=[1, 30, 52, 56, 59, 56, 60, 64, 78, 95], fitness=Fitness(sortCount=9, gap=3)), i = 744\n",
      "new guess increased fitness  (increased sortCount): Chromosome(genes=[1, 30, 52, 58, 59, 56, 60, 64, 78, 95], fitness=Fitness(sortCount=9, gap=3)), i = 761\n",
      "new guess increased fitness  (increased sortCount): Chromosome(genes=[1, 30, 52, 58, 59, 56, 60, 64, 78, 81], fitness=Fitness(sortCount=9, gap=3)), i = 763\n",
      "new guess increased fitness  (increased sortCount): Chromosome(genes=[26, 30, 52, 58, 59, 56, 60, 64, 78, 81], fitness=Fitness(sortCount=9, gap=3)), i = 770\n",
      "new guess increased fitness  (increased sortCount): Chromosome(genes=[26, 30, 52, 58, 59, 56, 60, 64, 78, 91], fitness=Fitness(sortCount=9, gap=3)), i = 775\n",
      "new guess increased fitness  (increased sortCount): Chromosome(genes=[26, 30, 37, 58, 59, 56, 60, 64, 78, 91], fitness=Fitness(sortCount=9, gap=3)), i = 783\n",
      "new guess increased fitness  (increased sortCount): Chromosome(genes=[26, 30, 37, 58, 59, 56, 60, 64, 78, 88], fitness=Fitness(sortCount=9, gap=3)), i = 802\n",
      "new guess increased fitness  (increased sortCount): Chromosome(genes=[26, 30, 37, 57, 59, 56, 60, 64, 78, 88], fitness=Fitness(sortCount=9, gap=3)), i = 807\n",
      "new guess increased fitness  (increased sortCount): Chromosome(genes=[26, 30, 37, 57, 59, 56, 60, 64, 69, 88], fitness=Fitness(sortCount=9, gap=3)), i = 808\n",
      "new guess increased fitness  (increased sortCount): Chromosome(genes=[26, 30, 37, 50, 59, 56, 60, 64, 69, 88], fitness=Fitness(sortCount=9, gap=3)), i = 810\n",
      "new guess increased fitness  (increased sortCount): Chromosome(genes=[22, 30, 37, 50, 59, 56, 60, 64, 69, 88], fitness=Fitness(sortCount=9, gap=3)), i = 815\n",
      "new guess increased fitness  (increased sortCount): Chromosome(genes=[8, 30, 37, 50, 59, 56, 60, 64, 69, 88], fitness=Fitness(sortCount=9, gap=3)), i = 817\n",
      "new guess increased fitness  (increased sortCount): Chromosome(genes=[8, 30, 37, 50, 59, 56, 61, 64, 69, 88], fitness=Fitness(sortCount=9, gap=3)), i = 825\n",
      "new guess increased fitness  (increased sortCount): Chromosome(genes=[8, 30, 37, 39, 59, 56, 61, 64, 69, 88], fitness=Fitness(sortCount=9, gap=3)), i = 835\n",
      "new guess increased fitness  (increased sortCount): Chromosome(genes=[1, 30, 37, 39, 59, 56, 61, 64, 69, 88], fitness=Fitness(sortCount=9, gap=3)), i = 837\n",
      "new guess increased fitness  (increased sortCount): Chromosome(genes=[1, 30, 37, 39, 59, 56, 61, 64, 69, 72], fitness=Fitness(sortCount=9, gap=3)), i = 851\n",
      "new guess increased fitness  (increased sortCount): Chromosome(genes=[1, 30, 37, 56, 59, 56, 61, 64, 69, 72], fitness=Fitness(sortCount=9, gap=3)), i = 857\n",
      "new guess increased fitness  (increased sortCount): Chromosome(genes=[1, 27, 37, 56, 59, 56, 61, 64, 69, 72], fitness=Fitness(sortCount=9, gap=3)), i = 860\n",
      "861\n",
      "Chromosome(genes=[1, 27, 37, 56, 59, 60, 61, 64, 69, 72], fitness=Fitness(sortCount=10, gap=0))\n"
     ]
    }
   ],
   "source": [
    "sort_numbers(10)"
   ]
  },
  {
   "cell_type": "code",
   "execution_count": null,
   "metadata": {},
   "outputs": [],
   "source": []
  }
 ],
 "metadata": {
  "kernelspec": {
   "display_name": "Python 3",
   "language": "python",
   "name": "python3"
  },
  "language_info": {
   "codemirror_mode": {
    "name": "ipython",
    "version": 3
   },
   "file_extension": ".py",
   "mimetype": "text/x-python",
   "name": "python",
   "nbconvert_exporter": "python",
   "pygments_lexer": "ipython3",
   "version": "3.7.7"
  }
 },
 "nbformat": 4,
 "nbformat_minor": 4
}
