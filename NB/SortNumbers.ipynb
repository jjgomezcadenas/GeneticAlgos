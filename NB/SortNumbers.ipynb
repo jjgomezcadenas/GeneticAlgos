{
 "cells": [
  {
   "cell_type": "code",
   "execution_count": 3,
   "metadata": {},
   "outputs": [],
   "source": [
    "import random\n",
    "import copy\n",
    "import datetime\n",
    "from dataclasses import dataclass\n",
    "from typing import List, Dict, Tuple, Sequence, Callable"
   ]
  },
  {
   "cell_type": "code",
   "execution_count": 71,
   "metadata": {},
   "outputs": [],
   "source": [
    "@dataclass\n",
    "class Chromosome:\n",
    "    genes   : List\n",
    "    fitness : float\n"
   ]
  },
  {
   "cell_type": "code",
   "execution_count": 72,
   "metadata": {},
   "outputs": [],
   "source": [
    "def generate_parent(length: int, geneSet: Sequence, get_fitness: Callable)->Chromosome:\n",
    "    genes = []\n",
    "    while len(genes) < length:\n",
    "        sampleSize = min(length - len(genes), len(geneSet))\n",
    "        genes.extend(random.sample(geneSet, sampleSize))\n",
    "    fitness = get_fitness(genes)\n",
    "    return Chromosome(genes, fitness)\n"
   ]
  },
  {
   "cell_type": "code",
   "execution_count": 73,
   "metadata": {},
   "outputs": [],
   "source": [
    "def get_fitness(genes: Sequence)->float:\n",
    "    fitness = 1\n",
    "    \n",
    "    for i in range(1, len(genes)):\n",
    "        if genes[i] > genes[i - 1]:\n",
    "            fitness += 1\n",
    "    return fitness\n",
    "\n",
    "def list_to_string(mlist : List)->str:\n",
    "    l2 = [f\"{x}\" for x in mlist]\n",
    "    return ''.join(l2)\n",
    "\n",
    "def mutate_genes(genes: List, geneSet: List)->List:\n",
    "    \"\"\"Mutate genes target choosing character from geneSet\"\"\"\n",
    "\n",
    "    mutatedGenes         = genes[:]\n",
    "    index                = random.randrange(0, len(mutatedGenes))\n",
    "    newGene, alternate   = random.sample(geneSet, 2)\n",
    "    mutatedGenes[index]  = alternate if newGene == mutatedGenes[index] else newGene\n",
    "    return mutatedGenes\n",
    "\n",
    "\n",
    "def mutate_chromosome(geneSet:     Sequence,\n",
    "                      parent:      Chromosome,\n",
    "                      get_fitness: Callable)->Chromosome:\n",
    "    \"\"\"Generate a mutated chromosome\"\"\"\n",
    "    mutatedGenes = mutate_genes(parent.genes, geneSet)\n",
    "    fitness      = get_fitness(mutatedGenes)\n",
    "    return Chromosome(mutatedGenes, fitness)\n",
    "\n"
   ]
  },
  {
   "cell_type": "code",
   "execution_count": 74,
   "metadata": {},
   "outputs": [],
   "source": [
    "geneSet = [i for i in range(100)]\n",
    "\n",
    "def sort_numbers(totalNumbers, imax=1000):\n",
    "    startTime = datetime.datetime.now()\n",
    "    random.seed()\n",
    "    setToSort = generate_parent(totalNumbers, geneSet, get_fitness)\n",
    "    print(f'Set to Sort = {setToSort}')\n",
    "\n",
    "    optimalFitness = len(setToSort.genes)\n",
    "    i = 0\n",
    "    while setToSort.fitness < optimalFitness and i < imax:\n",
    "        newGuess = mutate_chromosome(geneSet, setToSort, get_fitness)\n",
    "        #print(f'new guess : {newGuess}, i = {i}')\n",
    "        if newGuess.fitness > setToSort.fitness:\n",
    "            setToSort = Chromosome(newGuess.genes, newGuess.fitness)\n",
    "            print(f'new guess increased fitness : {setToSort}, i = {i}')\n",
    "        i+=1\n",
    "    print(setToSort)\n",
    "    print(i)\n",
    "\n",
    "\n",
    " "
   ]
  },
  {
   "cell_type": "code",
   "execution_count": 75,
   "metadata": {},
   "outputs": [
    {
     "name": "stdout",
     "output_type": "stream",
     "text": [
      "Set to Sort = Chromosome(genes=[24, 33, 4, 97, 14, 25, 54, 71, 77, 13], fitness=7)\n",
      "new guess increased fitness : Chromosome(genes=[24, 33, 4, 97, 14, 25, 54, 71, 77, 96], fitness=8), i = 7\n",
      "new guess increased fitness : Chromosome(genes=[24, 33, 50, 97, 14, 25, 54, 71, 77, 96], fitness=9), i = 31\n",
      "Chromosome(genes=[24, 33, 50, 97, 14, 25, 54, 71, 77, 96], fitness=9)\n",
      "1000\n"
     ]
    }
   ],
   "source": [
    "sort_numbers(10)"
   ]
  },
  {
   "cell_type": "code",
   "execution_count": 76,
   "metadata": {},
   "outputs": [],
   "source": [
    "@dataclass\n",
    "class Fitness:\n",
    "    sortCount : int\n",
    "    gap       : int\n"
   ]
  },
  {
   "cell_type": "code",
   "execution_count": 77,
   "metadata": {},
   "outputs": [],
   "source": [
    "@dataclass\n",
    "class Chromosome:\n",
    "    genes   : List\n",
    "    fitness : Fitness\n"
   ]
  },
  {
   "cell_type": "code",
   "execution_count": 78,
   "metadata": {},
   "outputs": [],
   "source": [
    "def compare_fitness(f1: Fitness, f2: Fitness)->bool:\n",
    "    \"\"\"Returns True if f1 is fitter than f2\"\"\"\n",
    "    if f1.sortCount == f2.sortCount:\n",
    "        return f1.gap <= f2.gap\n",
    "    else: \n",
    "        return f1.sortCount >= f2.sortCount"
   ]
  },
  {
   "cell_type": "code",
   "execution_count": 79,
   "metadata": {},
   "outputs": [],
   "source": [
    "def get_fitness(genes : List)->Fitness:\n",
    "    sortCount = 1\n",
    "    gap = 0\n",
    "\n",
    "    for i in range(1, len(genes)):\n",
    "        if genes[i] > genes[i - 1]:\n",
    "            sortCount += 1\n",
    "        else:\n",
    "            gap += genes[i - 1] - genes[i]\n",
    "    return Fitness(sortCount, gap)\n"
   ]
  },
  {
   "cell_type": "code",
   "execution_count": 80,
   "metadata": {},
   "outputs": [],
   "source": [
    "def sort_numbers(totalNumbers, verbose=True, imax=10000):\n",
    "    geneSet = [i for i in range(100)]\n",
    "    startTime = datetime.datetime.now()\n",
    "    random.seed()\n",
    "    setToSort = generate_parent(totalNumbers, geneSet, get_fitness)\n",
    "    print(f'Set to Sort = {setToSort}')\n",
    "\n",
    "    optimalFitness = Fitness(totalNumbers, 0)\n",
    "    \n",
    "    i = 0\n",
    "    while compare_fitness(setToSort.fitness, optimalFitness) == False and i < imax:\n",
    "        newGuess = mutate_chromosome(geneSet, setToSort, get_fitness)\n",
    "        if compare_fitness(newGuess.fitness, setToSort.fitness) == True:\n",
    "            if verbose:\n",
    "                print(f'new guess increased fitness  (increased sortCount): {setToSort}, i = {i}')\n",
    "            setToSort = Chromosome(newGuess.genes, newGuess.fitness)\n",
    "        \n",
    "        i+=1\n",
    "    print(setToSort)\n",
    "    print(i)\n"
   ]
  },
  {
   "cell_type": "code",
   "execution_count": 81,
   "metadata": {},
   "outputs": [
    {
     "name": "stdout",
     "output_type": "stream",
     "text": [
      "Set to Sort = Chromosome(genes=[47, 4, 80, 50, 2, 27, 43, 22, 87, 32], fitness=Fitness(sortCount=5, gap=197))\n",
      "Chromosome(genes=[18, 24, 28, 30, 33, 37, 40, 52, 75, 88], fitness=Fitness(sortCount=10, gap=0))\n",
      "956\n"
     ]
    }
   ],
   "source": [
    "sort_numbers(10, verbose=False)"
   ]
  },
  {
   "cell_type": "code",
   "execution_count": 82,
   "metadata": {},
   "outputs": [
    {
     "name": "stdout",
     "output_type": "stream",
     "text": [
      "Set to Sort = Chromosome(genes=[62, 33, 10, 80, 39, 53, 52, 8, 83, 79, 11, 22, 45, 67, 13, 55, 69, 75, 91, 2], fitness=Fitness(sortCount=11, gap=353))\n",
      "Chromosome(genes=[0, 5, 13, 21, 28, 34, 35, 39, 50, 52, 55, 57, 58, 60, 63, 64, 74, 75, 79, 91], fitness=Fitness(sortCount=20, gap=0))\n",
      "4699\n"
     ]
    }
   ],
   "source": [
    "sort_numbers(20, verbose=False)"
   ]
  },
  {
   "cell_type": "code",
   "execution_count": null,
   "metadata": {},
   "outputs": [],
   "source": []
  }
 ],
 "metadata": {
  "kernelspec": {
   "display_name": "Python 3",
   "language": "python",
   "name": "python3"
  },
  "language_info": {
   "codemirror_mode": {
    "name": "ipython",
    "version": 3
   },
   "file_extension": ".py",
   "mimetype": "text/x-python",
   "name": "python",
   "nbconvert_exporter": "python",
   "pygments_lexer": "ipython3",
   "version": "3.7.7"
  }
 },
 "nbformat": 4,
 "nbformat_minor": 4
}
